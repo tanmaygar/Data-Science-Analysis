{
  "nbformat": 4,
  "nbformat_minor": 0,
  "metadata": {
    "colab": {
      "name": "data science 4.ipynb",
      "provenance": [],
      "collapsed_sections": []
    },
    "kernelspec": {
      "name": "python3",
      "display_name": "Python 3"
    },
    "language_info": {
      "name": "python"
    }
  },
  "cells": [
    {
      "cell_type": "code",
      "execution_count": 1,
      "metadata": {
        "id": "Abqv_66UXlbA",
        "colab": {
          "base_uri": "https://localhost:8080/"
        },
        "outputId": "ccf1ca3f-ca26-4e77-d25d-20f042f144a2"
      },
      "outputs": [
        {
          "output_type": "stream",
          "name": "stdout",
          "text": [
            "--2022-02-17 09:49:36--  https://www.iith.ac.in/~shantanud/testdata.dat\n",
            "Resolving www.iith.ac.in (www.iith.ac.in)... 218.248.6.135\n",
            "Connecting to www.iith.ac.in (www.iith.ac.in)|218.248.6.135|:443... connected.\n",
            "HTTP request sent, awaiting response... 200 OK\n",
            "Length: 707\n",
            "Saving to: ‘testdata.dat’\n",
            "\n",
            "testdata.dat        100%[===================>]     707  --.-KB/s    in 0s      \n",
            "\n",
            "2022-02-17 09:49:37 (34.2 MB/s) - ‘testdata.dat’ saved [707/707]\n",
            "\n"
          ]
        }
      ],
      "source": [
        "# importing and extracting required data and libraries\n",
        "!wget https://www.iith.ac.in/~shantanud/testdata.dat\n",
        "\n",
        "import numpy as np\n",
        "import matplotlib.pyplot as plt\n",
        "from scipy import stats\n",
        "from scipy import optimize"
      ]
    },
    {
      "cell_type": "markdown",
      "source": [
        "## **Question 1**"
      ],
      "metadata": {
        "id": "Js2n-1_c_xU0"
      }
    },
    {
      "cell_type": "code",
      "source": [
        "# loading data in variables\n",
        "data = np.loadtxt('testdata.dat', unpack = True)\n",
        "x = data[0,:]\n",
        "y = data[1,:]\n",
        "sigma_y = data[2,:]\n",
        "\n",
        "# defining linear, quadratic and cubic function\n",
        "def linear_fit(t, a, b):\n",
        "    return a*t + b\n",
        "\n",
        "def quad_fit(t, a, b, c):\n",
        "    return a*(t**2) + b*t + c\n",
        "\n",
        "def cubic_fit(t, a, b, c, d):\n",
        "    return a*(t**3) + b*(t**2) + c*t + d\n",
        "\n",
        "# helper function for AIC & BIC calculation\n",
        "def logLH(degree, param, data):\n",
        "    x, y, sigma_y = data\n",
        "    if degree == 1:\n",
        "        y_fit = linear_fit(x, param[0], param[1])\n",
        "    if degree == 2:\n",
        "        y_fit = quad_fit(x, param[0], param[1], param[2])\n",
        "    if degree == 3:\n",
        "        y_fit = cubic_fit(x, param[0], param[1], param[2], param[3])\n",
        "    \n",
        "    return sum(stats.norm.logpdf(*args) for args in zip(y, y_fit, sigma_y))\n",
        "\n",
        "# functions for finding AIC & BIC\n",
        "def find_AIC(degree, param, data):\n",
        "    return -2* logLH(degree, param, data) + 2*(degree + 1) \n",
        "\n",
        "def find_AICc(degree, param, N, data):\n",
        "    k = degree + 1\n",
        "    return find_AIC(degree, param, data) + (2*k*k + 2*k)/(N-k-1)\n",
        "\n",
        "def find_BIC(degree, param, N, data):\n",
        "    return -2 * logLH(degree, param, data) + (degree + 1) * np.log(N)\n",
        "\n",
        "# function for finding error wrt curve fit parameters\n",
        "def find_error(degree, param, data):\n",
        "    if degree == 1:\n",
        "        return (y - linear_fit(x, param[0], param[1]))/sigma_y \n",
        "    if degree == 2:\n",
        "        return (y - quad_fit(x, param[0], param[1], param[2]))/sigma_y\n",
        "    if degree == 3:\n",
        "        return (y - cubic_fit(x, param[0], param[1], param[2], param[3]))/sigma_y\n",
        "\n",
        "# helper function for finding chi-square values\n",
        "def compute_chi_square(degree, param, data):\n",
        "    x, y, sigma_y = data\n",
        "    temp = find_error(degree, param, data)\n",
        "    return np.sum(temp ** 2)\n",
        "\n",
        "# function for computing degree of freedom\n",
        "def compute_dof(degree, data):\n",
        "    return data.shape[1] - (degree + 1)\n",
        "\n",
        "# function for finding chi-square likelihood\n",
        "def chi_square_likelihood(degree,param, data):\n",
        "    chi2 = compute_chi_square(degree, param, data)\n",
        "    dof = compute_dof(degree, data)\n",
        "    return stats.chi2(dof).pdf(chi2)\n",
        "\n",
        "# finding curve fit parameters\n",
        "linear_param, _ = optimize.curve_fit(linear_fit, xdata=x, ydata=y, sigma=sigma_y)\n",
        "quad_param, _ = optimize.curve_fit(quad_fit, xdata=x, ydata=y, sigma=sigma_y)\n",
        "cubic_param, _ = optimize.curve_fit(cubic_fit, xdata=x, ydata=y, sigma=sigma_y)\n",
        "\n",
        "# finding error corresponding to each fitting\n",
        "linear_error = find_error(1, linear_param, data)\n",
        "quadratic_error = find_error(2, quad_param, data)\n",
        "cubic_error = find_error(3, cubic_param, data)\n",
        "\n",
        "# finding and printing required values\n",
        "print(f\"Best fit values for Linear model (ax+b) are [a b] = {linear_param}\")\n",
        "print(f\"Best fit values for Quadratic model (ax^2 + bx + c) are [a b c] = {quad_param}\")\n",
        "print(f\"Best fit values for Cubic model (ax^3 + bx^2 + cx + d) are [a b c d] = {cubic_param}\\n\")\n",
        "\n",
        "print(\"chi-square likelihood\")\n",
        "print(f\"linear model: {chi_square_likelihood(1, linear_param, data)}\")\n",
        "print(f\"quadratic model: {chi_square_likelihood(2, quad_param, data)}\")\n",
        "print(f\"cubic model: {chi_square_likelihood(3, cubic_param, data)}\")\n",
        "print(\"Linear model is most suitable according to above data.\\n\")\n",
        "\n",
        "print(f\"AIC Values (Linear Model) = {find_AIC(1, linear_param, data)}\")\n",
        "print(f\"AIC Values (Quadratic Model) = {find_AIC(2, quad_param, data)}\")\n",
        "print(f\"AIC Values (Cubic Model) = {find_AIC(3, cubic_param, data)}\")\n",
        "print(\"Since Linear model has least AIC value, it is most suitable.\\n\")\n",
        "\n",
        "print(f\"AICc Values (Linear Model) = {find_AICc(1, linear_param, len(x), data)}\")\n",
        "print(f\"AICc Values (Quadratic Model) = {find_AICc(2, quad_param, len(x), data)}\")\n",
        "print(f\"AICc Values (Cubic Model) = {find_AICc(3, cubic_param, len(x), data)}\")\n",
        "print(\"Since Linear model has least AICc value, it is most suitable.\\n\")\n",
        "\n",
        "print(f\"BIC Values (Linear Model) = {find_BIC(1, linear_param, len(x), data)}\")\n",
        "print(f\"BIC Values (Quadratic Model) = {find_BIC(2, quad_param, len(x), data)}\")\n",
        "print(f\"BIC Values (Cubic Model) = {find_BIC(3, cubic_param, len(x), data)}\")\n",
        "print(\"Since Linear model has least BIC value, it is most suitable.\\n\")\n",
        "\n",
        "# finding and printing p-value of quadratic and cubic model with respect to linear model\n",
        "p_val_quad = 1-stats.chi2(1).cdf(stats.chi2(len(x)-2).pdf(np.sum(linear_error**2))- stats.chi2(len(x)-3).pdf(np.sum(quadratic_error**2)))\n",
        "p_val_cubic = 1-stats.chi2(2).cdf(stats.chi2(len(x)-2).pdf(np.sum(linear_error**2))- stats.chi2(len(x)-4).pdf(np.sum(cubic_error**2)))\n",
        "\n",
        "print(f\"Quadratic P-value wrt Linear Model is {p_val_quad}\")\n",
        "print(f\"Cubic P-value wrt Linear Model is {p_val_cubic}\\n\")\n",
        "\n",
        "# print(\"best model suited will be linear model\")\n",
        "\n",
        "# declaring points on x-axis\n",
        "x1 = np.linspace(0, 1, 2500)\n",
        "\n",
        "# plot\n",
        "fig, ax = plt.subplots()\n",
        "ax.errorbar(x, y, sigma_y, fmt='ok', ecolor='gray', label='data points')\n",
        "ax.plot(x1, linear_fit(x1, linear_param[0], linear_param[1]) , color = 'r', label='best linear model', linestyle='-.')\n",
        "ax.plot(x1, quad_fit(x1, quad_param[0], quad_param[1], quad_param[2]), color = 'black', label='best quadratic model', linestyle=':')\n",
        "ax.plot(x1, cubic_fit(x1, cubic_param[0], cubic_param[1], cubic_param[2], cubic_param[3]), color = 'b', label='best cubic model')\n",
        "ax.legend(loc='best')\n",
        "ax.set(xlabel='x', ylabel='y', title='data and different model fitted across the data')\n",
        "plt.grid()\n",
        "plt.show()"
      ],
      "metadata": {
        "colab": {
          "base_uri": "https://localhost:8080/",
          "height": 781
        },
        "id": "G3DB6tmAf7tt",
        "outputId": "51296e05-8cb0-4e56-8540-5e28f97f26ac"
      },
      "execution_count": 2,
      "outputs": [
        {
          "output_type": "stream",
          "name": "stdout",
          "text": [
            "Best fit values for Linear model (ax+b) are [a b] = [ 2.79789861 -1.11028082]\n",
            "Best fit values for Quadratic model (ax^2 + bx + c) are [a b c] = [ 0.50261293  2.38475187 -1.05578915]\n",
            "Best fit values for Cubic model (ax^3 + bx^2 + cx + d) are [a b c d] = [-0.96724992  1.74451332  1.97184055 -1.02910462]\n",
            "\n",
            "chi-square likelihood\n",
            "linear model: 0.045383795585918596\n",
            "quadratic model: 0.036608447550140304\n",
            "cubic model: 0.04215280601005994\n",
            "Linear model is most suitable according to above data.\n",
            "\n",
            "AIC Values (Linear Model) = -40.0366868160727\n",
            "AIC Values (Quadratic Model) = -39.84982062400561\n",
            "AIC Values (Cubic Model) = -38.26081851760256\n",
            "Since Linear model has least AIC value, it is most suitable.\n",
            "\n",
            "AICc Values (Linear Model) = -39.33080446313153\n",
            "AICc Values (Quadratic Model) = -38.34982062400561\n",
            "AICc Values (Cubic Model) = -35.594151850935894\n",
            "Since Linear model has least AICc value, it is most suitable.\n",
            "\n",
            "BIC Values (Linear Model) = -38.04522226896472\n",
            "BIC Values (Quadratic Model) = -36.86262380334364\n",
            "BIC Values (Cubic Model) = -34.2778894233866\n",
            "Since Linear model has least BIC value, it is most suitable.\n",
            "\n",
            "Quadratic P-value wrt Linear Model is 0.925365878185452\n",
            "Cubic P-value wrt Linear Model is 0.9983858094213666\n",
            "\n"
          ]
        },
        {
          "output_type": "display_data",
          "data": {
            "image/png": "[encoded data removed]",
            "text/plain": [
              "<Figure size 432x288 with 1 Axes>"
            ]
          },
          "metadata": {
            "needs_background": "light"
          }
        }
      ]
    },
    {
      "cell_type": "markdown",
      "source": [
        "## **Question 2**"
      ],
      "metadata": {
        "id": "KgXFc7wWo-N0"
      }
    },
    {
      "cell_type": "code",
      "source": [
        "# extracting data from JVDP website\n",
        "data1 = np.array([[0.42,  0.72,  0.,  0.3,  0.15,\n",
        "                  0.09,  0.19,  0.35,  0.4,  0.54,\n",
        "                  0.42,  0.69,  0.2,  0.88,  0.03,\n",
        "                  0.67,  0.42,  0.56,  0.14,  0.2],\n",
        "                 [0.33,  0.41, -0.22,  0.01, -0.05,\n",
        "                  -0.05, -0.12,  0.26,  0.29,  0.39,\n",
        "                  0.31,  0.42, -0.01,  0.58, -0.2,\n",
        "                  0.52,  0.15,  0.32, -0.13, -0.09],\n",
        "                 [0.1,  0.1,  0.1,  0.1,  0.1,\n",
        "                  0.1,  0.1,  0.1,  0.1,  0.1,\n",
        "                  0.1,  0.1,  0.1,  0.1,  0.1,\n",
        "                  0.1,  0.1,  0.1,  0.1,  0.1]])\n",
        "\n",
        "# declaring variables\n",
        "jvdp_x, jvdp_y, jvdp_sigma_y = data1\n",
        "\n",
        "# finding curve fit parameters\n",
        "jvdp_linear_param, _ = optimize.curve_fit(linear_fit, xdata=jvdp_x, ydata=jvdp_y, sigma=jvdp_sigma_y)\n",
        "jvdp_quad_param, _ = optimize.curve_fit(quad_fit, xdata=jvdp_x, ydata=jvdp_y, sigma=jvdp_sigma_y)\n",
        "\n",
        "# finding and printing required values\n",
        "print(f\"Linear Model AIC value = {find_AIC(1, jvdp_linear_param, data1)}\")\n",
        "print(f\"Linear Model AICc value = {find_AICc(1, jvdp_linear_param, len(jvdp_x), data1)}\")\n",
        "print(f\"Linear Model BIC value = {find_BIC(1, jvdp_linear_param, len(jvdp_x), data1)}\\n\")\n",
        "\n",
        "print(f\"Quadratic Model AIC value = {find_AIC(2, jvdp_quad_param, data1)}\")\n",
        "print(f\"Quadratic Model AICc value = {find_AICc(2, jvdp_quad_param, len(jvdp_x), data1)}\")\n",
        "print(f\"Quadratic Model BIC value = {find_BIC(2, jvdp_quad_param, len(jvdp_x), data1)}\\n\")\n",
        "\n",
        "print(\"Since Linear model has least AIC, AICc and BIC value, it is most suitable.\")"
      ],
      "metadata": {
        "colab": {
          "base_uri": "https://localhost:8080/"
        },
        "id": "rx1zZEZlpA_K",
        "outputId": "ed1e2dd0-dcac-4b92-a66a-12a5a63cedda"
      },
      "execution_count": 3,
      "outputs": [
        {
          "output_type": "stream",
          "name": "stdout",
          "text": [
            "Linear Model AIC value = -40.02173401322526\n",
            "Linear Model AICc value = -39.31585166028409\n",
            "Linear Model BIC value = -38.03026946611728\n",
            "\n",
            "Quadratic Model AIC value = -39.88302717300821\n",
            "Quadratic Model AICc value = -38.38302717300821\n",
            "Quadratic Model BIC value = -36.89583035234624\n",
            "\n",
            "Since Linear model has least AIC, AICc and BIC value, it is most suitable.\n"
          ]
        }
      ]
    },
    {
      "cell_type": "markdown",
      "source": [
        "## **Question 3** \n",
        "\n",
        "Title of the paper is \"The Kolmogorov-Smirnov Test for Goodness of Fit\".\n",
        "\n",
        "The standard tables used for K.S. test, consist of set of observations from a completely specified continuous distribution,\n",
        "mainly this test is used to tell whether a set of observations are from a normal distribution, when mean and variance are not given, but must be estimated from given sample.\n",
        "\n",
        "Another usage of this non-parametric statistic is that, it can be used to compare two empirical distributions, which defines largest absolute difference between 2 cumulative distribution functions, as a measure of disagreement.\n",
        "\n",
        "In the paper by by N.D. Gagunashvili, on the comparison of weighted and unweighted histograms, where it is being discussed that, that how X^2 test are used for histograms for different events, the K.S. test for histograms about different statistics of event.\n",
        "\n",
        "**References**:\n",
        "\n",
        "1) Massey, F. J. 1951. “The Kolmogorov-Smirnov Test for Goodness of Fit,”. Journal of the American Statistical Association, 46: 68–78. (Google Scholar)\n",
        "\n",
        "2) Gagunashvili N 2006 Comparison of weighted and unweighted histograms arXiv: physics/0605123"
      ],
      "metadata": {
        "id": "PCKmIA5CBAp5"
      }
    },
    {
      "cell_type": "markdown",
      "source": [
        "## **Question 4**"
      ],
      "metadata": {
        "id": "foQY0AueEi_U"
      }
    },
    {
      "cell_type": "code",
      "source": [
        "# calculation for higgs boson\n",
        "higgs_pval = [10**-1, 10**-2, 10**-3, 10**-5, 10**-7, 10**-9]\n",
        "higgs_sign = stats.norm.isf(higgs_pval)\n",
        "\n",
        "# calculation for LIGO\n",
        "p_val_ligo = 2*10**-7\n",
        "sign_ligo = stats.norm.isf(p_val_ligo)\n",
        "\n",
        "# calculation for super-k discovery\n",
        "chi_square = 65.2\n",
        "dof = 67\n",
        "chi_square_gof = 1-stats.chi2(dof).cdf(chi_square)\n",
        "\n",
        "# print\n",
        "print('Significance in terms of number of sigmas for higgs boson: ', higgs_sign)\n",
        "print('Significance in terms of number of sigmas for LIGO discovery: ', sign_ligo)\n",
        "print('chi-square GOF is: ', chi_square_gof)"
      ],
      "metadata": {
        "colab": {
          "base_uri": "https://localhost:8080/"
        },
        "id": "IlgQGMtDEisA",
        "outputId": "962276c2-5440-4c4f-ae6e-ebe4d611eeeb"
      },
      "execution_count": 4,
      "outputs": [
        {
          "output_type": "stream",
          "name": "stdout",
          "text": [
            "Significance in terms of number of sigmas for higgs boson:  [1.28155157 2.32634787 3.09023231 4.26489079 5.19933758 5.99780702]\n",
            "Significance in terms of number of sigmas for LIGO discovery:  5.068957749717791\n",
            "chi-square GOF is:  0.5394901931099038\n"
          ]
        }
      ]
    }
  ]
}
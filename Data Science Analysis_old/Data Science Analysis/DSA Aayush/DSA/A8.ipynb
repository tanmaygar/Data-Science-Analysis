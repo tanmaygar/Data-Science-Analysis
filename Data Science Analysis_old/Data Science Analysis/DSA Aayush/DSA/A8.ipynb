{
 "cells": [
  {
   "cell_type": "markdown",
   "metadata": {},
   "source": [
    "### AAYUSH GOYAL\n",
    "### EE18BTECH11001\n",
    "### Assignment 8"
   ]
  },
  {
   "cell_type": "code",
   "execution_count": 1,
   "metadata": {},
   "outputs": [],
   "source": [
    "import numpy as np\n",
    "import pandas as pd\n",
    "import matplotlib.pyplot as plt\n",
    "from astroML.correlation import bootstrap_two_point_angular\n",
    "import csv"
   ]
  },
  {
   "cell_type": "code",
   "execution_count": 2,
   "metadata": {},
   "outputs": [],
   "source": [
    "data = np.genfromtxt(\"BCS05hr.txt\")\n",
    "data = data[data[:,2]<20]\n",
    "data = data[data[:,2]>17]\n",
    "data = data[data[:,3]>0.002]"
   ]
  },
  {
   "cell_type": "code",
   "execution_count": 3,
   "metadata": {},
   "outputs": [],
   "source": [
    "def twopoint_cor(N):\n",
    "    LIN = np.linspace(np.log10(1. / 60.), np.log10(6), 16)\n",
    "    bins = 10 ** LIN\n",
    "    results = [bins]\n",
    "    for D in [data]:\n",
    "        results += bootstrap_two_point_angular(D[:,0],D[:,1],\n",
    "                                               bins=bins,method='landy-szalay',Nbootstraps=N)\n",
    "    return results"
   ]
  },
  {
   "cell_type": "code",
   "execution_count": 4,
   "metadata": {},
   "outputs": [
    {
     "data": {
      "image/png": "[encoded data removed]",
      "text/plain": [
       "<Figure size 432x288 with 1 Axes>"
      ]
     },
     "metadata": {
      "needs_background": "light"
     },
     "output_type": "display_data"
    }
   ],
   "source": [
    "(bins, corr, cor_er, bstraps) = twopoint_cor(10)\n",
    "bin_centers = 0.5 * (bins[1:] + bins[:-1])\n",
    "plt.errorbar(bin_centers, corr, cor_er,fmt='.k', ecolor='gray', lw=1)\n",
    "plt.xscale('log')\n",
    "plt.yscale('linear')\n",
    "plt.xlabel('$\\theta$')\n",
    "plt.ylabel('$w(\\theta)$')\n",
    "plt.title('Angular Two-Point Correlation Function')\n",
    "plt.show()"
   ]
  },
  {
   "cell_type": "code",
   "execution_count": null,
   "metadata": {},
   "outputs": [],
   "source": []
  }
 ],
 "metadata": {
  "kernelspec": {
   "display_name": "Python 3",
   "language": "python",
   "name": "python3"
  },
  "language_info": {
   "codemirror_mode": {
    "name": "ipython",
    "version": 3
   },
   "file_extension": ".py",
   "mimetype": "text/x-python",
   "name": "python",
   "nbconvert_exporter": "python",
   "pygments_lexer": "ipython3",
   "version": "3.8.5"
  }
 },
 "nbformat": 4,
 "nbformat_minor": 4
}

{
 "cells": [
  {
   "cell_type": "markdown",
   "id": "sapphire-tracker",
   "metadata": {},
   "source": [
    "### AAYUSH GOYAL\n",
    "### EE18BTECH11001\n",
    "### Assignment 4"
   ]
  },
  {
   "cell_type": "markdown",
   "id": "organizational-audience",
   "metadata": {},
   "source": [
    "### Q1"
   ]
  },
  {
   "cell_type": "code",
   "execution_count": 1,
   "id": "alpha-restriction",
   "metadata": {},
   "outputs": [],
   "source": [
    "import numpy as np\n",
    "import matplotlib.pyplot as plt\n",
    "from scipy import optimize, stats"
   ]
  },
  {
   "cell_type": "code",
   "execution_count": 2,
   "id": "amended-saver",
   "metadata": {},
   "outputs": [],
   "source": [
    "def fLin(x, v1):\n",
    "    return v1[1]*x+v1[0]\n",
    "\n",
    "def fquad(x, v2):\n",
    "    return v2[2]*x**2 + v2[1]*x + v2[0]\n",
    "\n",
    "def fcub(x, v3):\n",
    "    return v3[3]*x**3 + v3[2]*x**2 + v3[1]*x + v3[0]\n",
    "data = data = np.loadtxt( 'https://www.iith.ac.in/~shantanud/testdata.dat')\n",
    "x = data[:,0]\n",
    "y = data[:,1]\n",
    "sigma_y = data[:,2]\n",
    "v1 = np.array([0, 0])\n",
    "v2 = np.array([0, 0, 0])\n",
    "v3 = np.array([0, 0, 0, 0])"
   ]
  },
  {
   "cell_type": "code",
   "execution_count": 3,
   "id": "extreme-shoulder",
   "metadata": {},
   "outputs": [],
   "source": [
    "def logL(ta, n):\n",
    "    if n==1:\n",
    "        y_fit = fLin(x, ta)\n",
    "    elif n==2:\n",
    "        y_fit = fquad(x, ta)\n",
    "    elif n==3:\n",
    "        y_fit = fcub(x, ta)\n",
    "    return sum(stats.norm.logpdf(*args)\n",
    "               for args in zip(y, y_fit, sigma_y))"
   ]
  },
  {
   "cell_type": "code",
   "execution_count": 4,
   "id": "blocked-animal",
   "metadata": {},
   "outputs": [],
   "source": [
    "def optimizer(n, tval):\n",
    "    t0 = np.zeros(n+1)\n",
    "    if n==1:\n",
    "        nl = lambda theta: -logL(theta, 1)\n",
    "        return optimize.fmin_bfgs(nl, t0, disp=False)\n",
    "    if n==2:\n",
    "        nl = lambda theta: -logL(theta, 2)\n",
    "        return optimize.fmin_bfgs(nl, t0, disp=False)\n",
    "    if n==3:\n",
    "        nl = lambda theta: -logL(theta, 3)\n",
    "        return optimize.fmin_bfgs(nl, t0, disp=False)"
   ]
  },
  {
   "cell_type": "code",
   "execution_count": 5,
   "id": "given-shield",
   "metadata": {},
   "outputs": [],
   "source": [
    "def pval(n):\n",
    "    return 1-stats.chi2(n-1).cdf(compute_chi2(1) - compute_chi2(n))"
   ]
  },
  {
   "cell_type": "code",
   "execution_count": 6,
   "id": "collective-phenomenon",
   "metadata": {},
   "outputs": [],
   "source": [
    "r1 = optimizer(1, v1)\n",
    "r2 = optimizer(2, v2)\n",
    "r3 = optimizer(3, v3)"
   ]
  },
  {
   "cell_type": "code",
   "execution_count": 7,
   "id": "twenty-humanitarian",
   "metadata": {},
   "outputs": [],
   "source": [
    "def compute_chi2(n):\n",
    "    if n==1:\n",
    "        theta = optimizer(n, v1)\n",
    "        resid = ((y - fLin(x, theta)) / sigma_y)\n",
    "    elif n==2:\n",
    "        theta = optimizer(n, v2)\n",
    "        resid = ((y - fquad(x, theta)) / sigma_y)\n",
    "    elif n==3:\n",
    "        theta = optimizer(n, v3)\n",
    "        resid = ((y - fcub(x, theta)) / sigma_y)\n",
    "\n",
    "    return np.sum(resid ** 2)\n",
    "\n",
    "def compute_dof(degree, data=data):\n",
    "    return data.shape[0] - (degree + 1)\n",
    "\n",
    "def chi2_ll(n):\n",
    "    chi2 = compute_chi2(n)\n",
    "    dof = compute_dof(n)\n",
    "    return stats.chi2(dof).pdf(chi2)"
   ]
  },
  {
   "cell_type": "markdown",
   "id": "julian-ceiling",
   "metadata": {},
   "source": [
    "Log L values"
   ]
  },
  {
   "cell_type": "code",
   "execution_count": 8,
   "id": "large-invitation",
   "metadata": {},
   "outputs": [
    {
     "name": "stdout",
     "output_type": "stream",
     "text": [
      "linear: 22.018343408036255\n",
      "quadratic: 22.924910312002734\n",
      "cubic: 23.13040925879724\n"
     ]
    }
   ],
   "source": [
    "print(\"linear:\", logL(optimizer(1, v1), 1))\n",
    "print(\"quadratic:\", logL(optimizer(2, v2), 2))\n",
    "print(\"cubic:\", logL(optimizer(3, v3), 3))"
   ]
  },
  {
   "cell_type": "markdown",
   "id": "central-pacific",
   "metadata": {},
   "source": [
    " $chi^{2}$ likelihood"
   ]
  },
  {
   "cell_type": "code",
   "execution_count": 9,
   "id": "european-suicide",
   "metadata": {},
   "outputs": [
    {
     "name": "stdout",
     "output_type": "stream",
     "text": [
      "linear :     0.04538379558592037\n",
      "quadratic:  0.03660844755014173\n",
      "cubic:  0.04215280601015204\n"
     ]
    }
   ],
   "source": [
    "print(\"linear :    \", chi2_ll(1))\n",
    "print(\"quadratic: \", chi2_ll(2))\n",
    "print(\"cubic: \", chi2_ll(3))"
   ]
  },
  {
   "cell_type": "markdown",
   "id": "soviet-projector",
   "metadata": {},
   "source": [
    "p value"
   ]
  },
  {
   "cell_type": "code",
   "execution_count": 10,
   "id": "allied-palestine",
   "metadata": {},
   "outputs": [
    {
     "name": "stdout",
     "output_type": "stream",
     "text": [
      "quadratic:  0.17813275695316344\n",
      "cubic:  0.328878844196528\n"
     ]
    }
   ],
   "source": [
    "print(\"quadratic: \", pval(2))\n",
    "print(\"cubic: \", pval(3))"
   ]
  },
  {
   "cell_type": "markdown",
   "id": "professional-quantity",
   "metadata": {},
   "source": [
    "AICc values"
   ]
  },
  {
   "cell_type": "code",
   "execution_count": 11,
   "id": "unusual-patch",
   "metadata": {},
   "outputs": [
    {
     "name": "stdout",
     "output_type": "stream",
     "text": [
      "linear: -39.33080446313134\n",
      "quadratic: -38.34982062400547\n",
      "cubic: -35.594151850927815\n"
     ]
    }
   ],
   "source": [
    "a1 = -2*logL(r1, 1) + (2.0*2*20)/(17.0)\n",
    "a2 = -2*logL(r2, 2) + (2.0*3*20)/(16.0)\n",
    "a3 = -2*logL(r3, 3) + (2.0*4*20)/(15.0)\n",
    "print(\"linear:\", a1)\n",
    "print(\"quadratic:\", a2)\n",
    "print(\"cubic:\", a3)"
   ]
  },
  {
   "cell_type": "markdown",
   "id": "cordless-basics",
   "metadata": {},
   "source": [
    "Delta AIC values"
   ]
  },
  {
   "cell_type": "code",
   "execution_count": 12,
   "id": "black-certification",
   "metadata": {},
   "outputs": [
    {
     "name": "stdout",
     "output_type": "stream",
     "text": [
      "linear: 0.0\n",
      "quadratic: 0.9809838391258694\n",
      "cubic: 3.736652612203521\n"
     ]
    }
   ],
   "source": [
    "amin = min(a1, a2, a3)\n",
    "print(\"linear:\", a1-amin)\n",
    "print(\"quadratic:\", a2-amin)\n",
    "print(\"cubic:\", a3-amin)"
   ]
  },
  {
   "cell_type": "markdown",
   "id": "molecular-heath",
   "metadata": {},
   "source": [
    "BIC vlaues"
   ]
  },
  {
   "cell_type": "code",
   "execution_count": 13,
   "id": "enabling-homework",
   "metadata": {},
   "outputs": [
    {
     "name": "stdout",
     "output_type": "stream",
     "text": [
      "linear: -38.04522226896453\n",
      "quadratic: -36.862623803343496\n",
      "cubic: -34.27788942337852\n"
     ]
    }
   ],
   "source": [
    "b1 = -2*logL(r1, 1) + 2*np.log(x.shape[0])\n",
    "b2 = -2*logL(r2, 2) + 3*np.log(x.shape[0])\n",
    "b3 = -2*logL(r3, 3) + 4*np.log(x.shape[0])\n",
    "print(\"linear:\", b1)\n",
    "print(\"quadratic:\", b2)\n",
    "print(\"cubic:\", b3)"
   ]
  },
  {
   "cell_type": "markdown",
   "id": "dominican-rally",
   "metadata": {},
   "source": [
    "Delta BIC values"
   ]
  },
  {
   "cell_type": "code",
   "execution_count": 14,
   "id": "honey-conspiracy",
   "metadata": {},
   "outputs": [
    {
     "name": "stdout",
     "output_type": "stream",
     "text": [
      "linear: 0.0\n",
      "quadratic: 1.1825984656210338\n",
      "cubic: 3.7673328455860116\n"
     ]
    }
   ],
   "source": [
    "bmin = min(b1, b2, b3)\n",
    "print(\"linear:\", b1-bmin)\n",
    "print(\"quadratic:\", b2-bmin)\n",
    "print(\"cubic:\", b3-bmin)"
   ]
  },
  {
   "cell_type": "code",
   "execution_count": 15,
   "id": "extreme-learning",
   "metadata": {},
   "outputs": [
    {
     "data": {
      "image/png": "[encoded data removed]",
      "text/plain": [
       "<Figure size 432x432 with 1 Axes>"
      ]
     },
     "metadata": {
      "needs_background": "light"
     },
     "output_type": "display_data"
    }
   ],
   "source": [
    "t =  np.linspace(0, 1, 1000)\n",
    "fig, ax = plt.subplots(figsize=(6, 6))\n",
    "plt.plot(t, fLin(t, r1), label='linear fit' , color = 'b')\n",
    "plt.plot(t, fquad(t, r2), label='quadratic fit' , color='r')\n",
    "plt.plot(t, fcub(t, r3), label='cubic fit' , color='g')\n",
    "plt.legend()\n",
    "plt.xlabel('x')\n",
    "plt.ylabel('y')\n",
    "plt.title(\"Curve fitting\", size=17)\n",
    "plt.show()"
   ]
  },
  {
   "cell_type": "markdown",
   "id": "micro-championship",
   "metadata": {},
   "source": [
    "### Q4"
   ]
  },
  {
   "cell_type": "code",
   "execution_count": 18,
   "id": "mounted-bread",
   "metadata": {},
   "outputs": [
    {
     "name": "stdout",
     "output_type": "stream",
     "text": [
      "the significance in terms of no of sigmas of the Higgs boson discovery claim : [1.28155157 2.32634787 3.09023231 4.26489079 5.19933758 5.99780702]\n"
     ]
    }
   ],
   "source": [
    "higgsp = 0.1**np.array([1,2,3,5,7,9])\n",
    "higgs_sig = stats.norm.isf(higgsp)\n",
    "print(\"the significance in terms of no of sigmas of the Higgs boson discovery claim :\" , higgs_sig)"
   ]
  },
  {
   "cell_type": "code",
   "execution_count": 19,
   "id": "environmental-paintball",
   "metadata": {},
   "outputs": [
    {
     "name": "stdout",
     "output_type": "stream",
     "text": [
      "the significance in terms of no of sigmas of the LIGO discovery claim : 5.068957749717791\n"
     ]
    }
   ],
   "source": [
    "ligo_sig = stats.norm.isf(2e-7)\n",
    "print(\"the significance in terms of no of sigmas of the LIGO discovery claim :\" , ligo_sig)"
   ]
  },
  {
   "cell_type": "code",
   "execution_count": 20,
   "id": "capable-chapter",
   "metadata": {},
   "outputs": [
    {
     "name": "stdout",
     "output_type": "stream",
     "text": [
      "$Chi^{2}$ value GOF : 0.0\n"
     ]
    }
   ],
   "source": [
    "print(\"$Chi^{2}$ value GOF :\", stats.chi(67).sf(65.2))"
   ]
  },
  {
   "cell_type": "code",
   "execution_count": null,
   "id": "varied-ridge",
   "metadata": {},
   "outputs": [],
   "source": []
  }
 ],
 "metadata": {
  "kernelspec": {
   "display_name": "Python 3",
   "language": "python",
   "name": "python3"
  },
  "language_info": {
   "codemirror_mode": {
    "name": "ipython",
    "version": 3
   },
   "file_extension": ".py",
   "mimetype": "text/x-python",
   "name": "python",
   "nbconvert_exporter": "python",
   "pygments_lexer": "ipython3",
   "version": "3.8.5"
  }
 },
 "nbformat": 4,
 "nbformat_minor": 5
}

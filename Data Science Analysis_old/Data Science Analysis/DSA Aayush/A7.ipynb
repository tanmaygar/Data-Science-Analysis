{
 "cells": [
  {
   "cell_type": "markdown",
   "metadata": {},
   "source": [
    "#### Assignment 7\n",
    "#### AAYUSH GOYAL\n",
    "#### EE18BTECH11001"
   ]
  },
  {
   "cell_type": "code",
   "execution_count": 1,
   "metadata": {},
   "outputs": [],
   "source": [
    "import numpy as np\n",
    "import matplotlib.pyplot as plt\n",
    "import pandas as pd\n",
    "import emcee\n",
    "from scipy.optimize import curve_fit\n",
    "from sklearn.neighbors import KernelDensity\n",
    "import nestle\n",
    "from astropy import stats as stats_astropy\n",
    "from astroML import stats as stats_astroML"
   ]
  },
  {
   "cell_type": "code",
   "execution_count": 2,
   "metadata": {},
   "outputs": [],
   "source": [
    "def model(z,a,b):\n",
    "    return a*(1+b*z)\n",
    "\n",
    "def log_prior(theta):\n",
    "    a, b = theta\n",
    "    if 0 < a < 0.5 and -0.5 < b < 0.5:\n",
    "        return 0.0\n",
    "    return -np.inf"
   ]
  },
  {
   "cell_type": "code",
   "execution_count": 3,
   "metadata": {},
   "outputs": [],
   "source": [
    "def polynomial_fit(theta, x):\n",
    "    return sum(t * x ** n for (n, t) in enumerate(theta))\n",
    "\n",
    "def prior(theta):\n",
    "    return 200*theta - 100\n",
    "\n",
    "def log_post(theta,x,y,y_err):   \n",
    "    func = model(z,*theta)\n",
    "    sigma_2 = y_err ** 2 + func ** 2\n",
    "    log_likeli =np.sum((y - func) ** 2 / sigma_2 + np.log(sigma_2))/-2\n",
    "    return log_prior(theta)+log_likeli"
   ]
  },
  {
   "cell_type": "code",
   "execution_count": 4,
   "metadata": {},
   "outputs": [],
   "source": [
    "def comp_sigma(t1, t2, nbins=20):\n",
    "    L, xbins, ybins = np.histogram2d(t1, t2, nbins)\n",
    "    L[L == 0] = 1e-16\n",
    "    logL = np.log(L)\n",
    "    shape = L.shape\n",
    "    L = L.ravel()\n",
    "    i_sort = np.argsort(L)[::-1]\n",
    "    i_unsort = np.argsort(i_sort)\n",
    "    L_cumsum = L[i_sort].cumsum()\n",
    "    L_cumsum /= L_cumsum[-1]\n",
    "    xbins = 0.5 * (xbins[1:] + xbins[:-1])\n",
    "    ybins = 0.5 * (ybins[1:] + ybins[:-1])\n",
    "    return xbins, ybins, L_cumsum[i_unsort].reshape(shape)\n"
   ]
  },
  {
   "cell_type": "code",
   "execution_count": 5,
   "metadata": {},
   "outputs": [],
   "source": [
    "def plot_MCMC_trace(xdata, ydata, t):\n",
    "    xbins, ybins, sigma = comp_sigma(t[0], t[1])\n",
    "    plt.contour(xbins, ybins, sigma.T, levels=[0.68, 0.90], colors='b')\n",
    "    plt.plot(t[0], t[1], ',k', alpha=0.1)\n",
    "    plt.xlabel(r'$\\alpha$')\n",
    "    plt.ylabel(r'$\\beta$')\n",
    "    plt.title('68% & 90% Credible Interval')\n",
    "    plt.show()"
   ]
  },
  {
   "cell_type": "markdown",
   "metadata": {},
   "source": [
    "### Question 1 "
   ]
  },
  {
   "cell_type": "code",
   "execution_count": 6,
   "metadata": {},
   "outputs": [],
   "source": [
    "da = np.loadtxt( 'https://iith.ac.in/~shantanud/fgas_spt.txt')\n",
    "np.random.seed(42)\n",
    "z = da[:,0]\n",
    "nburn = 1000  \n",
    "ndim = 2 \n",
    "nwalkers = 50  \n",
    "nsteps = 7000 "
   ]
  },
  {
   "cell_type": "code",
   "execution_count": 7,
   "metadata": {},
   "outputs": [
    {
     "name": "stderr",
     "output_type": "stream",
     "text": [
      "  0%|          | 0/7000 [00:00<?, ?it/s]/Users/aayush/opt/anaconda3/lib/python3.8/site-packages/emcee/moves/red_blue.py:99: RuntimeWarning: invalid value encountered in double_scalars\n",
      "  lnpdiff = f + nlp - state.log_prob[j]\n",
      "100%|██████████| 7000/7000 [00:07<00:00, 912.77it/s]\n"
     ]
    },
    {
     "data": {
      "image/png": "[encoded data removed]",
      "text/plain": [
       "<Figure size 432x288 with 1 Axes>"
      ]
     },
     "metadata": {
      "needs_background": "light"
     },
     "output_type": "display_data"
    }
   ],
   "source": [
    "p_opt, p_cov = curve_fit(model, da[:,0], da[:,1],sigma = da[:,2])\n",
    "starting_guesses = np.random.normal(p_opt, 1, (nwalkers, ndim))\n",
    "sampler = emcee.EnsembleSampler(nwalkers, ndim, \n",
    "                                log_post,args=[z,da[:,1],da[:,2]])\n",
    "sampler.run_mcmc(starting_guesses, nsteps,progress = True)\n",
    "emcee_trace = sampler.chain[:, nburn:, :].reshape(-1, ndim).T\n",
    "plot_MCMC_trace(z, da[:,1], emcee_trace)"
   ]
  },
  {
   "cell_type": "markdown",
   "metadata": {},
   "source": [
    "### Question 2 "
   ]
  },
  {
   "cell_type": "code",
   "execution_count": 8,
   "metadata": {},
   "outputs": [],
   "source": [
    "data = np.array([[ 0.42,  0.72,  0.  ,  0.3 ,  0.15,\n",
    "                   0.09,  0.19,  0.35,  0.4 ,  0.54,\n",
    "                   0.42,  0.69,  0.2 ,  0.88,  0.03,\n",
    "                   0.67,  0.42,  0.56,  0.14,  0.2  ],\n",
    "                 [ 0.33,  0.41, -0.22,  0.01, -0.05,\n",
    "                  -0.05, -0.12,  0.26,  0.29,  0.39, \n",
    "                   0.31,  0.42, -0.01,  0.58, -0.2 ,\n",
    "                   0.52,  0.15,  0.32, -0.13, -0.09 ],\n",
    "                 [ 0.1 ,  0.1 ,  0.1 ,  0.1 ,  0.1 ,\n",
    "                   0.1 ,  0.1 ,  0.1 ,  0.1 ,  0.1 ,\n",
    "                   0.1 ,  0.1 ,  0.1 ,  0.1 ,  0.1 ,\n",
    "                   0.1 ,  0.1 ,  0.1 ,  0.1 ,  0.1  ]])\n"
   ]
  },
  {
   "cell_type": "code",
   "execution_count": 9,
   "metadata": {},
   "outputs": [],
   "source": [
    "def log_llihood(theta, data=data):\n",
    "    x, y, sigma_y = data\n",
    "    yM = polynomial_fit(theta, x)\n",
    "    return -0.5 * np.sum(np.log(2 * np.pi * sigma_y ** 2)\n",
    "                         + (y - yM) ** 2 / sigma_y ** 2)\n"
   ]
  },
  {
   "cell_type": "code",
   "execution_count": 10,
   "metadata": {},
   "outputs": [
    {
     "name": "stdout",
     "output_type": "stream",
     "text": [
      "niter: 1595\n",
      "ncall: 2678\n",
      "nsamples: 1695\n",
      "logz:  6.909 +/-  0.374\n",
      "h: 13.989\n",
      "\n",
      "niter: 2097\n",
      "ncall: 3954\n",
      "nsamples: 2197\n",
      "logz:  2.752 +/-  0.433\n",
      "h: 18.737\n"
     ]
    }
   ],
   "source": [
    "x, y, sigma_y = data\n",
    "np.random.seed(42)\n",
    "result_lin = nestle.sample(log_llihood, prior, 2)\n",
    "print(result_lin.summary())\n",
    "result_quad = nestle.sample(log_llihood, prior, 3)\n",
    "print()\n",
    "print(result_quad.summary())"
   ]
  },
  {
   "cell_type": "markdown",
   "metadata": {},
   "source": [
    "Values Dont agree with the blog"
   ]
  },
  {
   "cell_type": "markdown",
   "metadata": {},
   "source": [
    "### Question 3"
   ]
  },
  {
   "cell_type": "code",
   "execution_count": 11,
   "metadata": {},
   "outputs": [],
   "source": [
    "df = pd.read_csv('SDSS_quasar.dat',sep = '\\s+')\n",
    "data2 = df['z']\n",
    "data = data2.to_numpy()\n",
    "\n",
    "x = np.linspace(-0.5,5.0,1000)\n",
    "logpdfgaus = KernelDensity(kernel='gaussian', bandwidth=0.2\n",
    "                          ).fit(data[:,np.newaxis]\n",
    "                               ).score_samples(x[:,np.newaxis])\n",
    "pdf_g = np.exp(logpdfgaus)\n",
    "logpdfexp = KernelDensity(kernel='exponential',bandwidth=0.2\n",
    "                         ).fit(data[:,np.newaxis]\n",
    "                              ).score_samples(x[:,np.newaxis])\n",
    "pdf_exp = np.exp(logpdfexp)\n"
   ]
  },
  {
   "cell_type": "code",
   "execution_count": 12,
   "metadata": {},
   "outputs": [
    {
     "data": {
      "image/png": "[encoded data removed]",
      "text/plain": [
       "<Figure size 432x288 with 1 Axes>"
      ]
     },
     "metadata": {
      "needs_background": "light"
     },
     "output_type": "display_data"
    }
   ],
   "source": [
    "plt.plot(x,pdf_g,'r',label = 'Gaussian')\n",
    "plt.plot(x,pdf_exp,'g',label = 'Exponential')\n",
    "plt.legend()\n",
    "plt.title('KDE for Gaussian and Exponential kernels')\n",
    "plt.xlim(-0.5,5)\n",
    "plt.show()"
   ]
  }
 ],
 "metadata": {
  "kernelspec": {
   "display_name": "Python 3",
   "language": "python",
   "name": "python3"
  },
  "language_info": {
   "codemirror_mode": {
    "name": "ipython",
    "version": 3
   },
   "file_extension": ".py",
   "mimetype": "text/x-python",
   "name": "python",
   "nbconvert_exporter": "python",
   "pygments_lexer": "ipython3",
   "version": "3.8.5"
  }
 },
 "nbformat": 4,
 "nbformat_minor": 4
}

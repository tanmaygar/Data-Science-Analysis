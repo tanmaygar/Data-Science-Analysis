{
 "cells": [
  {
   "cell_type": "markdown",
   "metadata": {},
   "source": [
    "# Assignment 5 - EE18BTECH11050 "
   ]
  },
  {
   "cell_type": "code",
   "execution_count": 76,
   "metadata": {},
   "outputs": [],
   "source": [
    "import numpy as np\n",
    "import matplotlib.pyplot as plt\n",
    "from scipy import stats"
   ]
  },
  {
   "cell_type": "markdown",
   "metadata": {},
   "source": [
    "### Ques 1. "
   ]
  },
  {
   "cell_type": "code",
   "execution_count": 77,
   "metadata": {},
   "outputs": [
    {
     "name": "stdout",
     "output_type": "stream",
     "text": [
      "(27, 3)\n",
      "(27,)\n"
     ]
    }
   ],
   "source": [
    "data = np.array([[1, 2.12, 0.04],\n",
    "     [2, 2.71, 0.11],\n",
    "     [4, 3.44, 0.12],\n",
    "     [10, 2.76, 1.20],\n",
    "     [11, 2.72, 0.12],\n",
    "     [15, 0.96, 0.30],\n",
    "     [16, 2.00, 0.60],\n",
    "     [20, 3.26, 0.60],\n",
    "     [22, 2.50, 0.30],\n",
    "     [45, 1.20 ,0.40],\n",
    "     [87, 1.62 ,0.30],\n",
    "     [90, 1.30, 0.0],\n",
    "     [121, 1.96 ,0.34],\n",
    "     [243, 2.60 ,0.50],\n",
    "     [253, 1.30 ,0.20],\n",
    "     [433, 2.67 ,0.03],\n",
    "     [704, 4.40 ,2.10],\n",
    "     [762, 1.80 ,0.80],\n",
    "     [804, 4.90 ,3.90],\n",
    "     [1999, 2.39, 0.90],\n",
    "     [2000, 1.62, 1.05],\n",
    "     [2000, 1.47, 0.95],\n",
    "     [854, 0.89 ,0.13],\n",
    "     [1089, 2.52, 0.30],\n",
    "     [1313, 1.21, 0.25],\n",
    "     [4492, 0.90, 0.10],\n",
    "     [617, 0.80, 0.15 ]])    #loading the data from downloaded file\n",
    "\n",
    "print(data.shape)\n",
    "density_val = data[:,1]\n",
    "#tolerance_dens = data[:,2]\n",
    "#s_num = data[:,0]\n",
    "print(density_val.shape)"
   ]
  },
  {
   "cell_type": "code",
   "execution_count": 78,
   "metadata": {},
   "outputs": [
    {
     "name": "stdout",
     "output_type": "stream",
     "text": [
      "shapiro-wilk test to density values: \n",
      " W = 0.9246721863746643 p-value = 0.051220282912254333\n",
      "shapiro-wilk test to natural log of density values: \n",
      " W = 0.9686306715011597 p-value = 0.5660613775253296\n"
     ]
    }
   ],
   "source": [
    "#shapiro-wilk test to density values\n",
    "statistics, pvalue = stats.shapiro(density_val)\n",
    "print('shapiro-wilk test to density values: \\n', 'W =',statistics, 'p-value =', pvalue)\n",
    "\n",
    "#shapiro-wilk test to natural log of density values\n",
    "statistics2, pvalue2 = stats.shapiro(np.log(density_val))\n",
    "print('shapiro-wilk test to natural log of density values: \\n', 'W =',statistics2, 'p-value =', pvalue2)"
   ]
  },
  {
   "cell_type": "markdown",
   "metadata": {},
   "source": [
    "Above values indicate that the array of natural log on density values is closer to a gaussian distribution."
   ]
  },
  {
   "cell_type": "code",
   "execution_count": 89,
   "metadata": {
    "scrolled": true
   },
   "outputs": [
    {
     "data": {
      "image/png": "[encoded data removed]",
      "text/plain": [
       "<Figure size 432x288 with 1 Axes>"
      ]
     },
     "metadata": {
      "needs_background": "light"
     },
     "output_type": "display_data"
    }
   ],
   "source": [
    "#density values plot with gaussian fit\n",
    "mu, sigma = stats.norm.fit(density_val)\n",
    "x = np.linspace(-2,6,1000)\n",
    "pdf = stats.norm(mu, sigma).pdf(x)\n",
    "\n",
    "plt.figure()\n",
    "plt.hist(density_val, bins=6, alpha = 0.5, label='density values')\n",
    "plt.plot(x, 24*pdf, label='gaussian fit')\n",
    "plt.legend()\n",
    "plt.show()"
   ]
  },
  {
   "cell_type": "code",
   "execution_count": 100,
   "metadata": {
    "scrolled": true
   },
   "outputs": [
    {
     "data": {
      "image/png": "[encoded data removed]",
      "text/plain": [
       "<Figure size 432x288 with 1 Axes>"
      ]
     },
     "metadata": {
      "needs_background": "light"
     },
     "output_type": "display_data"
    }
   ],
   "source": [
    "#log of density values with gaussian fit\n",
    "mu, sigma = stats.norm.fit(np.log(density_val))\n",
    "x = np.linspace(-2,6,1000)\n",
    "pdf = stats.norm(mu, sigma).pdf(x)\n",
    "\n",
    "plt.figure()\n",
    "plt.hist(np.log(density_val), bins=6, alpha=0.5, label='ln(density values)')\n",
    "plt.plot(x, 8.5*pdf, label='gaussian fit')\n",
    "plt.show()"
   ]
  },
  {
   "cell_type": "markdown",
   "metadata": {},
   "source": [
    "Clearly, the distribution of natural log of density values is closer to a Gaussian Distribution"
   ]
  },
  {
   "cell_type": "markdown",
   "metadata": {},
   "source": [
    "### Ques 2."
   ]
  },
  {
   "cell_type": "code",
   "execution_count": 101,
   "metadata": {},
   "outputs": [
    {
     "name": "stdout",
     "output_type": "stream",
     "text": [
      "(2719, 9)\n"
     ]
    }
   ],
   "source": [
    "data = np.loadtxt('HIP_star.dat') \n",
    "print(data.shape)"
   ]
  },
  {
   "cell_type": "code",
   "execution_count": 102,
   "metadata": {},
   "outputs": [
    {
     "name": "stdout",
     "output_type": "stream",
     "text": [
      "93\n"
     ]
    }
   ],
   "source": [
    "hyades = []\n",
    "non_hyades = []\n",
    "n = len(data)\n",
    "\n",
    "for i in range(n):\n",
    "    if(data[i][2] >= 50 and data[i][2] <= 100):\n",
    "        if(data[i][3] >= 0 and data[i][3] <= 25):\n",
    "            if(data[i][5] >= 90 and data[i][5] <= 130):\n",
    "                if(data[i][6] >= -60 and data[i][6] <= -10):\n",
    "                    hyades += [data[i][8]]\n",
    "                else:\n",
    "                    non_hyades += [data[i][8]]\n",
    "            else:\n",
    "                non_hyades += [data[i][8]]\n",
    "        else:\n",
    "            non_hyades += [data[i][8]]\n",
    "    else:\n",
    "        non_hyades += [data[i][8]]\n",
    "            \n",
    "print(len(hyades))"
   ]
  },
  {
   "cell_type": "code",
   "execution_count": 105,
   "metadata": {},
   "outputs": [
    {
     "name": "stdout",
     "output_type": "stream",
     "text": [
      "p-value : 0.00011582222192442334\n"
     ]
    }
   ],
   "source": [
    "hyades = np.array(hyades)\n",
    "non_hyades = np.array(non_hyades)\n",
    "\n",
    "#print(hyades.shape)\n",
    "statistics = stats.ttest_ind(hyades, non_hyades)\n",
    "print('p-value :',statistics.pvalue)"
   ]
  },
  {
   "cell_type": "markdown",
   "metadata": {},
   "source": [
    "This small value of p-value, assuming null hypothesis : \"The Hyades stars have the same color as the non-Hyades stars\", indicates that the color of Hyades stars differs from non-Hyades stars"
   ]
  },
  {
   "cell_type": "code",
   "execution_count": null,
   "metadata": {},
   "outputs": [],
   "source": []
  }
 ],
 "metadata": {
  "kernelspec": {
   "display_name": "Python 3",
   "language": "python",
   "name": "python3"
  },
  "language_info": {
   "codemirror_mode": {
    "name": "ipython",
    "version": 3
   },
   "file_extension": ".py",
   "mimetype": "text/x-python",
   "name": "python",
   "nbconvert_exporter": "python",
   "pygments_lexer": "ipython3",
   "version": "3.7.6"
  }
 },
 "nbformat": 4,
 "nbformat_minor": 4
}

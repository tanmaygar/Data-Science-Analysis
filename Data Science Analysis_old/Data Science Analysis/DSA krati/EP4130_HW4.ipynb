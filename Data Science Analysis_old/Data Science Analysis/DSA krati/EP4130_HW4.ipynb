{
 "cells": [
  {
   "cell_type": "markdown",
   "metadata": {},
   "source": [
    "# Assignment 4 - EE18BTECH11050 "
   ]
  },
  {
   "cell_type": "code",
   "execution_count": 1,
   "metadata": {},
   "outputs": [],
   "source": [
    "import numpy as np\n",
    "import matplotlib.pyplot as plt\n",
    "from scipy import stats"
   ]
  },
  {
   "cell_type": "markdown",
   "metadata": {},
   "source": [
    "### Ques 1. "
   ]
  },
  {
   "cell_type": "code",
   "execution_count": 10,
   "metadata": {},
   "outputs": [
    {
     "name": "stdout",
     "output_type": "stream",
     "text": [
      "chi2 likelihood\n",
      "- linear model:     0.04538379558592021\n",
      "- quadratic model:  0.036608447550142836\n",
      "- cubic model:  0.042152806010143505\n",
      "[-1.11028083  2.79789863]\n",
      "[-1.05578918  2.38475197  0.50261284]\n",
      "maximum likelihood\n",
      "linear model:    logLH = 22.018343408036262\n",
      "quadratic model: logLH = 22.92491031200269\n",
      "cubic model: logLH = 23.130409258797616\n",
      "best model suited will be linear model\n"
     ]
    },
    {
     "data": {
      "image/png": "[encoded data removed]",
      "text/plain": [
       "<Figure size 432x288 with 1 Axes>"
      ]
     },
     "metadata": {
      "needs_background": "light"
     },
     "output_type": "display_data"
    }
   ],
   "source": [
    "import matplotlib.mlab as mlab\n",
    "import math\n",
    "import pandas as pd\n",
    "from scipy import optimize\n",
    "\n",
    "data = pd.read_csv(\"testdata.csv\")\n",
    "x = data['x']\n",
    "y = data['y']\n",
    "sigma_y = data['sigma_y']\n",
    "\n",
    "def polynomial_fit(theta, x):\n",
    "    #Polynomial model of degree (len(theta) - 1)\n",
    "    return sum(t * x ** n for (n, t) in enumerate(theta))\n",
    "\n",
    "def logLH(theta, model=polynomial_fit, data=np.array([x,y,sigma_y])):\n",
    "    #Gaussian log-likelihood of the model at theta\n",
    "    x, y, sigma_y = data\n",
    "    y_fit = model(theta, x)\n",
    "    return sum(stats.norm.logpdf(*args)\n",
    "               for args in zip(y, y_fit, sigma_y))\n",
    "\n",
    "def best_theta(degree, model=polynomial_fit, data=np.array([x,y,sigma_y])):\n",
    "    theta_0 = (degree + 1) * [0]\n",
    "    neg_logLH = lambda theta: -logLH(theta, model, data)\n",
    "    return optimize.fmin_bfgs(neg_logLH, theta_0, disp=False)\n",
    "\n",
    "def compute_chi2(degree, data=np.array([x,y,sigma_y])):\n",
    "    x, y, sigma_y = data\n",
    "    theta = best_theta(degree, data=np.array([x,y,sigma_y]))\n",
    "    resid = (y - polynomial_fit(theta, x)) / sigma_y\n",
    "    return np.sum(resid ** 2)\n",
    "\n",
    "def compute_dof(degree, data=np.array([x,y,sigma_y])):\n",
    "    return data.shape[1] - (degree + 1)\n",
    "\n",
    "def chi2_likelihood(degree, data=np.array([x,y,sigma_y])):\n",
    "    chi2 = compute_chi2(degree, data)\n",
    "    dof = compute_dof(degree, data)\n",
    "    return stats.chi2(dof).pdf(chi2)\n",
    "\n",
    "print(\"chi2 likelihood\")\n",
    "print(\"- linear model:    \", chi2_likelihood(1))\n",
    "print(\"- quadratic model: \", chi2_likelihood(2))\n",
    "print(\"- cubic model: \", chi2_likelihood(3))\n",
    "\n",
    "theta1 = best_theta(1)\n",
    "theta2 = best_theta(2)\n",
    "theta3 = best_theta(3)\n",
    "print(theta1)\n",
    "print(theta2)\n",
    "\n",
    "print(\"maximum likelihood\")\n",
    "print(\"linear model:    logLH =\", logLH(best_theta(1)))\n",
    "print(\"quadratic model: logLH =\", logLH(best_theta(2)))\n",
    "print(\"cubic model: logLH =\", logLH(best_theta(3)))\n",
    "\n",
    "print(\"best model suited will be linear model\")\n",
    "xfit = np.linspace(0, 1, 1000)\n",
    "\n",
    "fig, ax = plt.subplots()\n",
    "ax.errorbar(x, y, sigma_y, fmt='ok', ecolor='gray')\n",
    "ax.plot(xfit, polynomial_fit(theta1, xfit), label='best linear model',linestyle='-.')\n",
    "ax.plot(xfit, polynomial_fit(theta2, xfit), label='best quadratic model',linestyle=':')\n",
    "ax.plot(xfit, polynomial_fit(theta3, xfit), label='best cubic model')\n",
    "ax.axhline(0, color='black', lw=2)\n",
    "ax.axvline(0, color='black', lw=2)\n",
    "ax.legend(loc='best', fontsize=14)\n",
    "ax.set(xlabel='x', ylabel='y', title='data and different model fitted across the data');\n",
    "plt.show()"
   ]
  },
  {
   "cell_type": "markdown",
   "metadata": {},
   "source": [
    "### Ques 2."
   ]
  },
  {
   "cell_type": "code",
   "execution_count": 12,
   "metadata": {},
   "outputs": [
    {
     "ename": "NameError",
     "evalue": "name 'linear' is not defined",
     "output_type": "error",
     "traceback": [
      "\u001b[0;31m---------------------------------------------------------------------------\u001b[0m",
      "\u001b[0;31mNameError\u001b[0m                                 Traceback (most recent call last)",
      "\u001b[0;32m<ipython-input-12-0aa8d44efe7d>\u001b[0m in \u001b[0;36m<module>\u001b[0;34m\u001b[0m\n\u001b[1;32m     14\u001b[0m \u001b[0mx\u001b[0m\u001b[0;34m,\u001b[0m \u001b[0my\u001b[0m\u001b[0;34m,\u001b[0m \u001b[0msigma_y\u001b[0m \u001b[0;34m=\u001b[0m \u001b[0mdata\u001b[0m\u001b[0;34m\u001b[0m\u001b[0;34m\u001b[0m\u001b[0m\n\u001b[1;32m     15\u001b[0m \u001b[0;34m\u001b[0m\u001b[0m\n\u001b[0;32m---> 16\u001b[0;31m \u001b[0;34m(\u001b[0m\u001b[0mm\u001b[0m\u001b[0;34m,\u001b[0m \u001b[0mb\u001b[0m\u001b[0;34m)\u001b[0m\u001b[0;34m,\u001b[0m \u001b[0m_\u001b[0m \u001b[0;34m=\u001b[0m \u001b[0moptimize\u001b[0m\u001b[0;34m.\u001b[0m\u001b[0mcurve_fit\u001b[0m\u001b[0;34m(\u001b[0m\u001b[0mlinear\u001b[0m\u001b[0;34m,\u001b[0m \u001b[0mxdata\u001b[0m\u001b[0;34m=\u001b[0m\u001b[0mx\u001b[0m\u001b[0;34m,\u001b[0m \u001b[0mydata\u001b[0m\u001b[0;34m=\u001b[0m\u001b[0my\u001b[0m\u001b[0;34m,\u001b[0m \u001b[0msigma\u001b[0m\u001b[0;34m=\u001b[0m\u001b[0msigma_y\u001b[0m\u001b[0;34m)\u001b[0m\u001b[0;34m\u001b[0m\u001b[0;34m\u001b[0m\u001b[0m\n\u001b[0m\u001b[1;32m     17\u001b[0m \u001b[0my_lin\u001b[0m \u001b[0;34m=\u001b[0m \u001b[0;34m[\u001b[0m\u001b[0mm\u001b[0m\u001b[0;34m*\u001b[0m\u001b[0mi\u001b[0m\u001b[0;34m+\u001b[0m\u001b[0mb\u001b[0m \u001b[0;32mfor\u001b[0m \u001b[0mi\u001b[0m \u001b[0;32min\u001b[0m \u001b[0mx\u001b[0m\u001b[0;34m]\u001b[0m\u001b[0;34m\u001b[0m\u001b[0;34m\u001b[0m\u001b[0m\n\u001b[1;32m     18\u001b[0m \u001b[0;34m\u001b[0m\u001b[0m\n",
      "\u001b[0;31mNameError\u001b[0m: name 'linear' is not defined"
     ]
    }
   ],
   "source": [
    "data = np.array([[ 0.42,  0.72,  0.  ,  0.3 ,  0.15,\n",
    "                   0.09,  0.19,  0.35,  0.4 ,  0.54,\n",
    "                   0.42,  0.69,  0.2 ,  0.88,  0.03,\n",
    "                   0.67,  0.42,  0.56,  0.14,  0.2  ],\n",
    "                 [ 0.33,  0.41, -0.22,  0.01, -0.05,\n",
    "                  -0.05, -0.12,  0.26,  0.29,  0.39, \n",
    "                   0.31,  0.42, -0.01,  0.58, -0.2 ,\n",
    "                   0.52,  0.15,  0.32, -0.13, -0.09 ],\n",
    "                 [ 0.1 ,  0.1 ,  0.1 ,  0.1 ,  0.1 ,\n",
    "                   0.1 ,  0.1 ,  0.1 ,  0.1 ,  0.1 ,\n",
    "                   0.1 ,  0.1 ,  0.1 ,  0.1 ,  0.1 ,\n",
    "                   0.1 ,  0.1 ,  0.1 ,  0.1 ,  0.1  ]])\n",
    "\n",
    "x, y, sigma_y = data\n",
    "\n",
    "(m, b), _ = optimize.curve_fit(linear, xdata=x, ydata=y, sigma=sigma_y)\n",
    "y_lin = [m*i+b for i in x]\n",
    "\n",
    "(a, b, c), _ = optimize.curve_fit(quad, xdata=x, ydata=y, sigma=sigma_y)\n",
    "y_quad= [a*i**2+b*i+c for i in x]\n",
    "\n",
    "(a, b, c, d), _ = optimize.curve_fit(cubic, xdata=x, ydata=y, sigma=sigma_y)\n",
    "y_cubic = [a*i*3+b*i*2+c*i+d for i in x]\n",
    "\n",
    "hi2_lin = np.sum(((y - y_lin)/sigma_y)**2)\n",
    "BIC_lin = -2*np.log(chi2_lin) + 2*np.log(n)\n",
    "AIC_lin = -2*np.log(chi2_lin) + 2*2\n",
    "print(\"AIC for linear fit =\", AIC_lin)\n",
    "print(\"BIC for linear fit =\", BIC_lin)\n",
    "\n",
    "chi2_quad = np.sum(((y - y_quad)/sigma_y)**2)\n",
    "BIC_quad = -2*np.log(chi2_quad) + 3*np.log(n)\n",
    "AIC_quad = -2*np.log(chi2_quad) + 2*3\n",
    "print(\"AIC for quadratic fit =\", AIC_quad)\n",
    "print(\"BIC for quadratic fit =\", BIC_quad)"
   ]
  },
  {
   "cell_type": "markdown",
   "metadata": {},
   "source": [
    "### Ques 3."
   ]
  },
  {
   "cell_type": "markdown",
   "metadata": {},
   "source": [
    "\" On the Kolmogorov-Smirnov Test for Normality with Mean and Variance Unknown\" \n",
    "\n",
    "The standard tables used for K.S. test, consist of set of observations from a completely specified continuous distribution,\n",
    "mainly this test is used to tell whether a set of observations are from a normal distribution, when mean and variance are not given, but must be estimated from given sample.\n",
    "\n",
    "Another usage of this non-parametric statistic is that, it can be used to compare two empirical distributions, which defines \"largest absolute difference between 2 cumulative distribution functions, as a measure of disagreement\n",
    "\n",
    "in the paper by N.D. Gagunashvili, about comparison of weighted and unweighted histograms, where it is being discussed that, that how X^2 test are used for histograms for different events, the K.S. test for histograms about different statistics of event.\n",
    "\n",
    "REFERENCES:\n",
    "\n",
    "1) Massey, F. J. 1951. “The Kolmogorov-Smirnov Test for Goodness of Fit,”. Journal of the American Statistical Association, 46: 68–78. [Taylor & Francis Online], [Web of Science ®]\n",
    ", , [Google Scholar]\n",
    "\n",
    "2) Gagunashvili N 2006 Comparison of weighted and unweighted histograms arXiv: physics/0605123"
   ]
  },
  {
   "cell_type": "markdown",
   "metadata": {},
   "source": [
    "### Ques 4."
   ]
  },
  {
   "cell_type": "code",
   "execution_count": 13,
   "metadata": {},
   "outputs": [
    {
     "name": "stdout",
     "output_type": "stream",
     "text": [
      "significance in terms of number of sigmas for higgs boson:  [1.28155157 2.32634787 3.09023231 4.26489079 5.19933758 5.99780702]\n",
      "significance in terms of number of sigmas for LIGO discovery:  5.068957749717791\n",
      "chi square GOF is:  0.5394901931099038\n"
     ]
    }
   ],
   "source": [
    "p_val_higgs = [10**-1, 10**-2, 10**-3, 10**-5, 10**-7, 10**-9]\n",
    "sign_higgs = stats.norm.isf(p_val_higgs)\n",
    "p_val_ligo = 2*10**-7\n",
    "sign_ligo = stats.norm.isf(p_val_ligo)\n",
    "chi2 = 65.2\n",
    "dof = 67\n",
    "chi2_gof = 1-stats.chi2(dof).cdf(chi2)\n",
    "print('significance in terms of number of sigmas for higgs boson: ', sign_higgs)\n",
    "print('significance in terms of number of sigmas for LIGO discovery: ', sign_ligo)\n",
    "print('chi square GOF is: ', chi2_gof)"
   ]
  },
  {
   "cell_type": "code",
   "execution_count": null,
   "metadata": {},
   "outputs": [],
   "source": []
  }
 ],
 "metadata": {
  "kernelspec": {
   "display_name": "Python 3",
   "language": "python",
   "name": "python3"
  },
  "language_info": {
   "codemirror_mode": {
    "name": "ipython",
    "version": 3
   },
   "file_extension": ".py",
   "mimetype": "text/x-python",
   "name": "python",
   "nbconvert_exporter": "python",
   "pygments_lexer": "ipython3",
   "version": "3.7.6"
  }
 },
 "nbformat": 4,
 "nbformat_minor": 4
}

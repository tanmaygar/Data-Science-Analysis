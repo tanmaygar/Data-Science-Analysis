{
 "cells": [
  {
   "cell_type": "markdown",
   "metadata": {},
   "source": [
    "# Assignment 6 - EE18BTECH11050 "
   ]
  },
  {
   "cell_type": "code",
   "execution_count": 2,
   "metadata": {},
   "outputs": [],
   "source": [
    "import numpy as np\n",
    "import matplotlib.pyplot as plt\n",
    "from scipy import stats\n",
    "from scipy import ndimage\n",
    "import pandas as pd\n",
    "from matplotlib.patches import Ellipse\n",
    "import emcee"
   ]
  },
  {
   "cell_type": "code",
   "execution_count": 7,
   "metadata": {},
   "outputs": [],
   "source": [
    "data = np.array([[1 ,201, 592, 61, 9, -0.84],\n",
    "    [2, 244, 401, 25, 4, 0.31],\n",
    "    [3, 47, 583, 38, 11, 0.64],\n",
    "    [4, 287, 402, 15, 7, -0.27],\n",
    "    [5, 203, 495, 21, 5, -0.33],\n",
    "    [6, 58, 173, 15, 9, 0.67],\n",
    "    [7, 210, 479, 27, 4, -0.02],\n",
    "    [8, 202, 504, 14, 4, -0.05],\n",
    "    [9, 198, 510, 30, 11, -0.84],\n",
    "    [10, 158, 416, 16, 7, -0.69],\n",
    "    [11, 165, 393, 14, 5, 0.30],\n",
    "    [12, 201, 442, 25, 5, -0.46],\n",
    "    [13, 157, 317, 52, 5, -0.03],\n",
    "    [14, 131, 311, 16, 6, 0.50],\n",
    "    [15, 166, 400, 34, 6, 0.73],\n",
    "    [16, 160, 337, 31, 5, -0.52],\n",
    "    [17, 186, 423, 42, 9, 0.90],\n",
    "    [18, 125, 334, 26, 8, 0.40],\n",
    "    [19, 218, 533, 16, 6, -0.78],\n",
    "    [20, 146, 344, 22, 5, -0.56]])\n",
    "xdata = data[:,1]\n",
    "ydata = data[:,2]\n",
    "sigma_y = data[:,3]\n",
    "np.random.seed(42)"
   ]
  },
  {
   "cell_type": "code",
   "execution_count": 8,
   "metadata": {},
   "outputs": [],
   "source": [
    "def log_prior(theta):\n",
    "    alpha, beta, sigma = theta\n",
    "    if sigma < 0:\n",
    "        return -np.inf  # log(0)\n",
    "    else:\n",
    "        return -1.5 * np.log(1 + beta ** 2) - np.log(sigma)\n",
    "\n",
    "def log_likelihood(theta, x, y):\n",
    "    alpha, beta, sigma = theta\n",
    "    y_model = alpha + beta * x\n",
    "    return -0.5 * np.sum(np.log(2 * np.pi * sigma ** 2) + (y - y_model) ** 2 / sigma ** 2)\n",
    "\n",
    "def log_posterior(theta, x, y):\n",
    "    return log_prior(theta) + log_likelihood(theta, x, y)\n",
    "\n",
    "\n",
    "ndim = 3  # number of parameters in the model\n",
    "nwalkers = 50  # number of MCMC walkers\n",
    "nburn = 1000  # \"burn-in\" period to let chains stabilize\n",
    "nsteps = 2000  # number of MCMC steps to take\n",
    "\n",
    "# set theta near the maximum likelihood, with \n",
    "np.random.seed(0)\n",
    "starting_guesses = np.random.random((nwalkers, ndim))\n",
    "\n",
    "sampler = emcee.EnsembleSampler(nwalkers, ndim, log_posterior,\n",
    "                                args=[xdata, ydata])\n",
    "sampler.run_mcmc(starting_guesses, nsteps)\n",
    "emcee_trace = sampler.chain[:, nburn:, :].reshape(-1, ndim).T"
   ]
  },
  {
   "cell_type": "code",
   "execution_count": 9,
   "metadata": {},
   "outputs": [],
   "source": [
    "def compute_sigma_level(trace1, trace2, nbins=20, smoothing=3):\n",
    "    \"\"\"From a set of traces, bin by number of standard deviations\"\"\"\n",
    "    L, xbins, ybins = np.histogram2d(trace1, trace2, nbins)\n",
    "    L[L == 0] = 1E-16\n",
    "    logL = np.log(L)\n",
    "\n",
    "    shape = L.shape\n",
    "    L = L.ravel()\n",
    "\n",
    "    # obtain the indices to sort and unsort the flattened array\n",
    "    i_sort = np.argsort(L)[::-1]\n",
    "    i_unsort = np.argsort(i_sort)\n",
    "\n",
    "    L_cumsum = L[i_sort].cumsum()\n",
    "    L_cumsum /= L_cumsum[-1]\n",
    "\n",
    "    sigma = L_cumsum[i_unsort].reshape(shape)\n",
    "\n",
    "    if smoothing > 1:\n",
    "        sigma = ndimage.zoom(sigma, smoothing)\n",
    "        xbins = np.linspace(xbins[0], xbins[-1], sigma.shape[0] + 1)\n",
    "        ybins = np.linspace(ybins[0], ybins[-1], sigma.shape[1] + 1)\n",
    "    \n",
    "    xbins = 0.5 * (xbins[1:] + xbins[:-1])\n",
    "    ybins = 0.5 * (ybins[1:] + ybins[:-1])\n",
    "\n",
    "    return xbins, ybins, sigma\n",
    "\n",
    "\n",
    "def plot_MCMC_trace(ax, xdata, ydata, trace, scatter=False,\n",
    "                    nbins=20, smoothing=3, **kwargs):\n",
    "    \"\"\"Plot traces and contours\"\"\"\n",
    "    xbins, ybins, sigma = compute_sigma_level(trace[0], trace[1],\n",
    "                                              nbins, smoothing)\n",
    "\n",
    "    ax.contour(xbins, ybins, sigma.T, levels=[0.683 ** 2, 0.955 ** 2], **kwargs)\n",
    "    if scatter:\n",
    "        ax.plot(trace[0], trace[1], ',k', alpha=0.1)\n",
    "    ax.set_xlabel(r'$\\alpha$')\n",
    "    ax.set_ylabel(r'$\\beta$')\n",
    "\n",
    "\n",
    "# compute the ellipse pricipal axes and rotation from covariance\n",
    "def get_principal(Sigma):\n",
    "    # See Ivezic, Connolly, VanderPlas, and Gray, section 3.5.2\n",
    "    sigma_x2 = Sigma[0, 0]\n",
    "    sigma_y2 = Sigma[1, 1]\n",
    "    sigma_xy = Sigma[0, 1]\n",
    "\n",
    "    alpha = 0.5 * np.arctan2(2 * sigma_xy, sigma_x2 - sigma_y2)\n",
    "    tmp1 = 0.5 * (sigma_x2 + sigma_y2)\n",
    "    tmp2 = np.sqrt(0.25 * (sigma_x2 - sigma_y2) ** 2 + sigma_xy ** 2)\n",
    "\n",
    "    return np.sqrt(tmp1 + tmp2), np.sqrt(tmp1 - tmp2), alpha"
   ]
  },
  {
   "cell_type": "code",
   "execution_count": 10,
   "metadata": {},
   "outputs": [
    {
     "data": {
      "image/png": "[encoded data removed]",
      "text/plain": [
       "<Figure size 720x720 with 1 Axes>"
      ]
     },
     "metadata": {
      "needs_background": "light"
     },
     "output_type": "display_data"
    }
   ],
   "source": [
    "fig, ax = plt.subplots(figsize=(10, 10))\n",
    "\n",
    "plot_MCMC_trace(ax, xdata, ydata, emcee_trace, True,colors='blue', linewidths=2)\n",
    "\n",
    "ax.plot([0, 0], [0, 0], '-b', lw=2)\n",
    "\n",
    "ax.legend(ax.lines[-1:] + ax.collections[::2],\n",
    "          ['emcee'], fontsize=14)\n",
    "\n",
    "ax.set_xlim(-100, 200)\n",
    "ax.set_ylim(1.5,3)\n",
    "\n",
    "plt.show()"
   ]
  },
  {
   "cell_type": "code",
   "execution_count": null,
   "metadata": {},
   "outputs": [],
   "source": []
  }
 ],
 "metadata": {
  "kernelspec": {
   "display_name": "Python 3",
   "language": "python",
   "name": "python3"
  },
  "language_info": {
   "codemirror_mode": {
    "name": "ipython",
    "version": 3
   },
   "file_extension": ".py",
   "mimetype": "text/x-python",
   "name": "python",
   "nbconvert_exporter": "python",
   "pygments_lexer": "ipython3",
   "version": "3.7.6"
  }
 },
 "nbformat": 4,
 "nbformat_minor": 4
}

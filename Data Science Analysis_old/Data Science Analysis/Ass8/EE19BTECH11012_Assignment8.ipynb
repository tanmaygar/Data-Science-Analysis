{
  "nbformat": 4,
  "nbformat_minor": 0,
  "metadata": {
    "colab": {
      "name": "data science 8.ipynb",
      "provenance": []
    },
    "kernelspec": {
      "name": "python3",
      "display_name": "Python 3"
    },
    "language_info": {
      "name": "python"
    }
  },
  "cells": [
    {
      "cell_type": "code",
      "execution_count": null,
      "metadata": {
        "id": "Sx9iSfBtUb_A"
      },
      "outputs": [],
      "source": [
        "!pip install astroML"
      ]
    },
    {
      "cell_type": "code",
      "source": [
        "import numpy as np\n",
        "import matplotlib.pyplot as plt\n",
        "from astroML.correlation import bootstrap_two_point_angular"
      ],
      "metadata": {
        "id": "WV7CQMw3aL9V"
      },
      "execution_count": 2,
      "outputs": []
    },
    {
      "cell_type": "code",
      "source": [
        "# extracting input data from website\n",
        "data = np.loadtxt('https://www.iith.ac.in/~shantanud/BCS05hr_reduced.txt')\n",
        "\n",
        "# filtering the data according to parameters\n",
        "data = data[data[:,2] < 20]\n",
        "data = data[data[:,2] > 17]\n",
        "data = data[data[:,3] > 0.002]\n",
        "\n",
        "# function for finding angular two-point correlation\n",
        "def two_point_correlation(N):\n",
        "    LINS = np.linspace(np.log10(1.0/60.0), np.log10(6), 16)\n",
        "    bins = 10 ** LINS\n",
        "    results = [bins]\n",
        "    for d in [data]:\n",
        "        results += bootstrap_two_point_angular(d[:,0], d[:,1], bins=bins, method='landy-szalay', Nbootstraps=N)\n",
        "    return results\n",
        "\n",
        "# applying function according to the question asked\n",
        "(bins, b_corr, b_corr_err, b_bootstraps) = two_point_correlation(10)\n",
        "# finding bin centers\n",
        "bin_centers = 0.5 * (bins[1:] + bins[:-1])\n",
        "\n",
        "# plotting the values from angular two-point correlation\n",
        "plt.figure(figsize=(10,7))\n",
        "plt.xscale('log')\n",
        "plt.yscale('linear')\n",
        "plt.errorbar(bin_centers, b_corr, b_corr_err, fmt='.k', ecolor='gray', lw=1)\n",
        "plt.xlabel(r'$\\theta$', size = 13)\n",
        "plt.ylabel(r'$w(\\theta)$', size = 13)\n",
        "plt.title('Angular Two-Point Correlation', size = 15)\n",
        "plt.grid()\n",
        "plt.show()"
      ],
      "metadata": {
        "colab": {
          "base_uri": "https://localhost:8080/",
          "height": 468
        },
        "id": "Hyu5M232VdDa",
        "outputId": "da2bde62-a184-4275-a18c-ef18fbe3028a"
      },
      "execution_count": 3,
      "outputs": [
        {
          "output_type": "display_data",
          "data": {
            "text/plain": [
              "<Figure size 720x504 with 1 Axes>"
            ],
            "image/png": "[encoded data removed]"
          },
          "metadata": {
            "needs_background": "light"
          }
        }
      ]
    }
  ]
}
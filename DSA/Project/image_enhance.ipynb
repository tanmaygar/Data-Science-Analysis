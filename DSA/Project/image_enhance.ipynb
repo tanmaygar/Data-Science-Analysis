{
 "cells": [
  {
   "cell_type": "code",
   "execution_count": 15,
   "metadata": {},
   "outputs": [
    {
     "name": "stderr",
     "output_type": "stream",
     "text": [
      "/home/kali1tanmay/.local/lib/python3.10/site-packages/sklearn/cluster/_kmeans.py:870: FutureWarning: The default value of `n_init` will change from 10 to 'auto' in 1.4. Set the value of `n_init` explicitly to suppress the warning\n",
      "  warnings.warn(\n"
     ]
    },
    {
     "data": {
      "text/plain": [
       "True"
      ]
     },
     "execution_count": 15,
     "metadata": {},
     "output_type": "execute_result"
    }
   ],
   "source": [
    "import cv2\n",
    "import numpy as np\n",
    "from sklearn.cluster import KMeans\n",
    "import matplotlib.pyplot as plt\n",
    "\n",
    "# Read the image\n",
    "image = cv2.imread('sunflower.jpg')\n",
    "\n",
    "# Resize the image (optional)\n",
    "# image = cv2.resize(image, (640, 480))\n",
    "\n",
    "# Convert the image to LAB color space\n",
    "lab_image = cv2.cvtColor(image, cv2.COLOR_BGR2LAB)\n",
    "\n",
    "# Flatten the image into a 2D array\n",
    "pixels = lab_image.reshape((-1, 3))\n",
    "\n",
    "# Perform K-means clustering\n",
    "k = 5  # Number of clusters\n",
    "kmeans = KMeans(n_clusters=k)\n",
    "labels = kmeans.fit_predict(pixels)\n",
    "\n",
    "# Reshape the labels back to the original image\n",
    "segmented_image = labels.reshape(lab_image.shape[:2])\n",
    "\n",
    "# Enhance specific regions (change contrast and brightness)\n",
    "enhanced_image = np.copy(image)\n",
    "alpha = 1.0  # Contrast (1.0-3.0)\n",
    "beta = 60   # Brightness (0-100)\n",
    "\n",
    "# Define the region to be enhanced (here, we're enhancing the region belonging to cluster 1)\n",
    "region_mask = (segmented_image == 1)\n",
    "\n",
    "for c in range(3):  # Iterate over color channels\n",
    "    enhanced_image[..., c] = np.where(region_mask, np.clip(alpha * enhanced_image[..., c] + beta, 0, 255), enhanced_image[..., c])\n",
    "\n",
    "# Save the result\n",
    "cv2.imwrite('enhanced_image.jpg', enhanced_image)\n"
   ]
  },
  {
   "cell_type": "code",
   "execution_count": 11,
   "metadata": {},
   "outputs": [
    {
     "data": {
      "image/png": "[encoded data removed]",
      "text/plain": [
       "<Figure size 1000x500 with 1 Axes>"
      ]
     },
     "metadata": {},
     "output_type": "display_data"
    }
   ],
   "source": [
    "kmeans.cluster_centers_\n",
    "colors = np.zeros((k, 1, 3), dtype=np.uint8)\n",
    "\n",
    "for i in range(k):\n",
    "    colors[i, 0, 0] = kmeans.cluster_centers_[i, 0]\n",
    "    colors[i, 0, 1] = kmeans.cluster_centers_[i, 1]\n",
    "    colors[i, 0, 2] = kmeans.cluster_centers_[i, 2]\n",
    "    \n",
    "# colors is in LAB color space, convert it to RGB color space to display it\n",
    "colors = cv2.cvtColor(colors, cv2.COLOR_LAB2RGB)\n",
    "\n",
    "# Display the colors\n",
    "plt.figure(figsize=(10, 5))\n",
    "plt.imshow(colors)\n",
    "plt.show()"
   ]
  },
  {
   "cell_type": "code",
   "execution_count": 18,
   "metadata": {},
   "outputs": [
    {
     "name": "stderr",
     "output_type": "stream",
     "text": [
      "/home/kali1tanmay/.local/lib/python3.10/site-packages/sklearn/cluster/_kmeans.py:870: FutureWarning: The default value of `n_init` will change from 10 to 'auto' in 1.4. Set the value of `n_init` explicitly to suppress the warning\n",
      "  warnings.warn(\n"
     ]
    },
    {
     "data": {
      "text/plain": [
       "True"
      ]
     },
     "execution_count": 18,
     "metadata": {},
     "output_type": "execute_result"
    }
   ],
   "source": [
    "import cv2\n",
    "import numpy as np\n",
    "from sklearn.cluster import KMeans\n",
    "\n",
    "# Function to calculate the variance of the Laplacian (measure of image noise)\n",
    "def laplacian_variance(img):\n",
    "    laplacian = cv2.Laplacian(img, cv2.CV_64F)\n",
    "    return laplacian.var()\n",
    "\n",
    "# Read the image\n",
    "image = cv2.imread('sunflower.jpg')\n",
    "\n",
    "# Resize the image (optional)\n",
    "# image = cv2.resize(image, (640, 480))\n",
    "\n",
    "# Convert the image to grayscale\n",
    "gray_image = cv2.cvtColor(image, cv2.COLOR_BGR2GRAY)\n",
    "\n",
    "# Perform K-means clustering\n",
    "k = 3  # Number of clusters\n",
    "pixels = gray_image.reshape((-1, 1))\n",
    "kmeans = KMeans(n_clusters=k)\n",
    "labels = kmeans.fit_predict(pixels)\n",
    "\n",
    "# Reshape the labels back to the original image\n",
    "segmented_image = labels.reshape(gray_image.shape)\n",
    "\n",
    "# Identify the noisy regions (here, we assume the region with the highest Laplacian variance is noisy)\n",
    "noise_variances = [laplacian_variance((segmented_image == i).astype(np.uint8)) for i in range(k)]\n",
    "noisy_region = np.argmax(noise_variances)\n",
    "\n",
    "# Apply noise reduction to the identified noisy regions\n",
    "denoised_image = np.copy(image)\n",
    "region_mask = (segmented_image == noisy_region)\n",
    "\n",
    "# Apply a Gaussian blur as a noise reduction technique\n",
    "blurred_image = cv2.GaussianBlur(image, (5, 5), 0)\n",
    "for c in range(3):  # Iterate over color channels\n",
    "    denoised_image[..., c] = np.where(region_mask, blurred_image[..., c], denoised_image[..., c])\n",
    "\n",
    "# Save the result\n",
    "cv2.imwrite('denoised_image.jpg', denoised_image)\n"
   ]
  }
 ],
 "metadata": {
  "kernelspec": {
   "display_name": "dsa",
   "language": "python",
   "name": "python3"
  },
  "language_info": {
   "codemirror_mode": {
    "name": "ipython",
    "version": 3
   },
   "file_extension": ".py",
   "mimetype": "text/x-python",
   "name": "python",
   "nbconvert_exporter": "python",
   "pygments_lexer": "ipython3",
   "version": "3.10.9"
  },
  "orig_nbformat": 4
 },
 "nbformat": 4,
 "nbformat_minor": 2
}

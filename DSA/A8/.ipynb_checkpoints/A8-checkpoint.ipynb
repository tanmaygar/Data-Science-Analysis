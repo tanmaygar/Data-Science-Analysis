{
 "cells": [
  {
   "attachments": {},
   "cell_type": "markdown",
   "metadata": {},
   "source": [
    "# Tanmay Garg\n",
    "## CS20BTECH11063\n",
    "### Data Science Analysis Assignment 8"
   ]
  },
  {
   "cell_type": "code",
   "execution_count": 1,
   "metadata": {},
   "outputs": [],
   "source": [
    "import numpy as np\n",
    "import matplotlib.pyplot as plt\n",
    "import scipy.stats as stats\n",
    "from scipy import optimize\n",
    "import astroML\n",
    "from astroML.stats import sigmaG\n",
    "import pandas as pd\n",
    "import seaborn as sns\n",
    "np.random.seed(0)\n",
    "import emcee\n",
    "import corner\n",
    "from sklearn.neighbors import KernelDensity\n",
    "from IPython.display import display, Math\n",
    "import dynesty\n",
    "import nestle\n",
    "from astroML.correlation import bootstrap_two_point_angular"
   ]
  },
  {
   "attachments": {},
   "cell_type": "markdown",
   "metadata": {},
   "source": [
    "# Q1"
   ]
  },
  {
   "cell_type": "code",
   "execution_count": 2,
   "metadata": {},
   "outputs": [
    {
     "name": "stdout",
     "output_type": "stream",
     "text": [
      "(16,)\n"
     ]
    },
    {
     "data": {
      "image/png": "[encoded data removed]",
      "text/plain": [
       "<Figure size 1500x800 with 1 Axes>"
      ]
     },
     "metadata": {},
     "output_type": "display_data"
    }
   ],
   "source": [
    "df = pd.read_csv('BCS05hr_reduced.txt', sep=' ')\n",
    "\n",
    "# filter by r-mag between 17 and 20 and spread_model > 0.002\n",
    "df = df[(df['r-mag'] > 17) & (df['r-mag'] < 20) & (df['spread_model'] > 0.002)]\n",
    "\n",
    "def angular_two_point_corr_function(data, Nbins=16, Nbootstraps=10, upper_angular=1.0, \n",
    "                                    lower_angular=1/60.0, num_bin_angular=16):\n",
    "    bins = 10 ** np.linspace(np.log10(lower_angular), np.log10(upper_angular), num_bin_angular)\n",
    "    print(np.linspace(np.log10(lower_angular), np.log10(upper_angular), num_bin_angular).shape)\n",
    "    \n",
    "    results = [bins]\n",
    "    for sub_data in [data]:\n",
    "        results += bootstrap_two_point_angular(sub_data['RA'], sub_data['DEC'], bins=bins, Nbootstraps=Nbootstraps)\n",
    "    return results\n",
    "\n",
    "results = angular_two_point_corr_function(df)\n",
    "bins = results[0]\n",
    "corr = results[1]\n",
    "corr_err = results[2]\n",
    "nbootstraps = results[3]\n",
    "\n",
    "bin_centers = 0.5 * (bins[1:] + bins[:-1])\n",
    "\n",
    "# Plotting the results\n",
    "plt.figure(figsize=(15, 8))\n",
    "\n",
    "plt.xscale('log')\n",
    "plt.yscale('linear')\n",
    "plt.errorbar(bin_centers, corr, yerr=corr_err, fmt='.k', capsize=5, lw=1)\n",
    "plt.xlabel(r'$\\theta$')\n",
    "plt.ylabel(r'$w(\\theta)$')\n",
    "plt.title('Angular Two Point Correlation Function')\n",
    "plt.grid()\n",
    "plt.show()\n",
    "plt.close()"
   ]
  },
  {
   "cell_type": "code",
   "execution_count": 3,
   "metadata": {},
   "outputs": [],
   "source": [
    "# import numpy as np\n",
    "# from scipy.optimize import curve_fit\n",
    "# import matplotlib.pyplot as plt\n",
    "\n",
    "# # Load the data\n",
    "# data = np.loadtxt('BCS05hr_reduced.txt')\n",
    "\n",
    "# # Extract the relevant columns\n",
    "# ra = data[:, 0]  # right ascension in degrees\n",
    "# dec = data[:, 1]  # declination in degrees\n",
    "# rmag = data[:, 2]  # r-band magnitude\n",
    "# spread_model = data[:, 3]  # spread model\n",
    "# spread_model_err = data[:, 4]  # spread model error\n",
    "\n",
    "# # Select galaxies with r-band magnitude between 17 and 20 and spread model > 0.002\n",
    "# mask = (rmag > 17) & (rmag < 20) & (spread_model > 0.002)\n",
    "# ra = ra[mask]  # right ascension in degrees\n",
    "# dec = dec[mask]  # declination in degrees\n",
    "\n",
    "# # Convert from degrees to radians and combine ra and dec into a single 2D array\n",
    "# coords = np.column_stack([np.radians(ra), np.radians(dec)])\n",
    "\n",
    "# # Define the angular bins\n",
    "# bins = np.logspace(np.log10(1/60), 0, 17)  # 16 logarithmic-spaced bins from 1/60° to 1°\n",
    "\n",
    "# # Calculate the angular two-point correlation function\n",
    "# dd, _ = np.histogramdd(coords, bins=bins)\n",
    "# nd = len(ra)\n",
    "# w = nd*(nd-1)/2\n",
    "# dd = dd.flatten()\n",
    "# corr = dd/w - 1\n",
    "\n",
    "# # Bootstrap resampling\n",
    "# nboot = 10\n",
    "# boot_corr = np.zeros((nboot, len(corr)))\n",
    "# for i in range(nboot):\n",
    "#     idx = np.random.randint(len(ra), size=len(ra))\n",
    "#     boot_ra = ra[idx]\n",
    "#     boot_dec = dec[idx]\n",
    "#     boot_coords = np.column_stack([np.radians(boot_ra), np.radians(boot_dec)])\n",
    "#     boot_dd, _ = np.histogramdd(boot_coords, bins=bins)\n",
    "#     boot_dd = boot_dd.flatten()\n",
    "#     boot_corr[i] = boot_dd/w - 1\n",
    "\n",
    "# # Calculate the errors\n",
    "# err = np.std(boot_corr, axis=0)\n",
    "\n",
    "# # Define the function to fit the correlation function\n",
    "# def power_law(x, a, b):\n",
    "#     return a*x**(-b)\n",
    "\n",
    "# # Fit a power-law to the correlation function\n",
    "# popt, pcov = curve_fit(power_law, bins[:-1], corr, sigma=err, absolute_sigma=True)\n",
    "\n",
    "# # Plot the correlation function and the best-fit power-law\n",
    "# plt.errorbar(bins[:-1], corr, yerr=err, fmt='o', markersize=4, capsize=2)\n",
    "# x = np.linspace(bins[0], bins[-2], 100)\n",
    "# plt.plot(x, power_law(x, *popt), '-', label='Power-law fit')\n",
    "# plt.xscale('log')\n",
    "# plt.yscale('linear')\n",
    "# plt.xlabel('Angular separation (degrees)')\n",
    "# plt.ylabel('Correlation function')\n",
    "# plt.legend()\n",
    "# plt.show()\n"
   ]
  }
 ],
 "metadata": {
  "kernelspec": {
   "display_name": "Python 3 (ipykernel)",
   "language": "python",
   "name": "python3"
  },
  "language_info": {
   "codemirror_mode": {
    "name": "ipython",
    "version": 3
   },
   "file_extension": ".py",
   "mimetype": "text/x-python",
   "name": "python",
   "nbconvert_exporter": "python",
   "pygments_lexer": "ipython3",
   "version": "3.10.9"
  },
  "vscode": {
   "interpreter": {
    "hash": "916dbcbb3f70747c44a77c7bcd40155683ae19c65e1c03b4aa3499c5328201f1"
   }
  }
 },
 "nbformat": 4,
 "nbformat_minor": 4
}

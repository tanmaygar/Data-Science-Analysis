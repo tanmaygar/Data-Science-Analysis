{
 "cells": [
  {
   "attachments": {},
   "cell_type": "markdown",
   "metadata": {},
   "source": [
    "### Topic: K-Means Clustering - Applications (Image Segmentation)\n",
    "- Theory and Algo\n",
    "- Mathematical Background\n",
    "- Image Segmentation - What is it?\n",
    "- Image Segmentation - Why do we need it?\n",
    "- Perform Image Segmentation using K-Means Clustering \n",
    "- Explore different values of K\n",
    "- Metrics used to find the perfect value of K (Variance, KL DIvergence, Correlation, time taken, RGB Histograms)\n",
    "- Alogrithm to find the perfect value of K (elbow and silhouette method)\n",
    "- The good and the bad\n",
    "\n",
    "(Classification if less topics - Fashion MNIST)"
   ]
  },
  {
   "cell_type": "code",
   "execution_count": null,
   "metadata": {},
   "outputs": [],
   "source": []
  }
 ],
 "metadata": {
  "kernelspec": {
   "display_name": "base",
   "language": "python",
   "name": "python3"
  },
  "language_info": {
   "name": "python",
   "version": "3.8.5 (default, Sep  3 2020, 21:29:08) [MSC v.1916 64 bit (AMD64)]"
  },
  "orig_nbformat": 4,
  "vscode": {
   "interpreter": {
    "hash": "ad2bdc8ecc057115af97d19610ffacc2b4e99fae6737bb82f5d7fb13d2f2c186"
   }
  }
 },
 "nbformat": 4,
 "nbformat_minor": 2
}

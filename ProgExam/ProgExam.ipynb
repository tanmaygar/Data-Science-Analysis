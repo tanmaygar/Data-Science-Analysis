{
 "cells": [
  {
   "attachments": {},
   "cell_type": "markdown",
   "metadata": {},
   "source": [
    "# Tanmay Garg\n",
    "## CS20BTECH11063\n",
    "### Data Science Analysis Programming Exam"
   ]
  },
  {
   "cell_type": "code",
   "execution_count": 5,
   "metadata": {},
   "outputs": [],
   "source": [
    "import numpy as np\n",
    "import matplotlib.pyplot as plt\n",
    "import scipy.stats as stats\n",
    "from scipy import optimize\n",
    "import astroML\n",
    "from astroML.stats import sigmaG\n",
    "import pandas as pd\n",
    "import seaborn as sns\n",
    "np.random.seed(0)\n",
    "import emcee\n",
    "import corner\n",
    "from sklearn.neighbors import KernelDensity\n",
    "from IPython.display import display, Math\n",
    "import dynesty\n",
    "# import nestle\n",
    "from astroML.correlation import bootstrap_two_point_angular"
   ]
  },
  {
   "attachments": {},
   "cell_type": "markdown",
   "metadata": {},
   "source": [
    "# Q1"
   ]
  },
  {
   "cell_type": "code",
   "execution_count": 31,
   "metadata": {},
   "outputs": [
    {
     "name": "stdout",
     "output_type": "stream",
     "text": [
      "Z Score of hubble constant:  1.5140223282089291\n"
     ]
    }
   ],
   "source": [
    "hubble_cons1 = 67\n",
    "hubble_cons_error1 = 2.3\n",
    "\n",
    "hubble_cons2 = 71\n",
    "hubble_cons_error2 = 1.3\n",
    "\n",
    "def z_score(hubble_cons1, hubble_cons_error1, hubble_cons2, hubble_cons_error2):\n",
    "    return abs((hubble_cons1 - hubble_cons2)/np.sqrt(hubble_cons_error1**2 + hubble_cons_error2**2))\n",
    "\n",
    "print(\"Z Score of hubble constant: \", z_score(hubble_cons1, hubble_cons_error1, hubble_cons2, hubble_cons_error2))\n",
    "\n",
    "# # calculate the Z Score of the two hubble constants in terms of sigma\n",
    "# z_score1 = (hubble_cons1 - hubble_cons2)/np.sqrt(hubble_cons_error1**2 + hubble_cons_error2**2)\n",
    "# z_score2 = (hubble_cons2 - hubble_cons1)/np.sqrt(hubble_cons_error1**2 + hubble_cons_error2**2)\n",
    "# print(\"Z Score of hubble constant 1: \", z_score1)\n",
    "# print(\"Z Score of hubble constant 2: \", z_score2)\n",
    "\n",
    "# # calculate the p value of the two hubble constants\n",
    "# p_value1 = stats.norm.sf(abs(z_score1))\n",
    "# p_value2 = stats.norm.sf(abs(z_score2))\n",
    "# print(\"P value of hubble constant 1: \", p_value1)\n",
    "# print(\"P value of hubble constant 2: \", p_value2)\n",
    "\n",
    "# print(stats.norm.isf(p_value1))\n",
    "# print(stats.norm.isf(p_value2))"
   ]
  },
  {
   "attachments": {},
   "cell_type": "markdown",
   "metadata": {},
   "source": [
    "# Q2"
   ]
  },
  {
   "attachments": {},
   "cell_type": "markdown",
   "metadata": {},
   "source": [
    "What values of constant delta chi square contours should be used for a model with 2 free parameters, 10 data points if we want 85% confidence?\n",
    "\n"
   ]
  },
  {
   "cell_type": "code",
   "execution_count": 37,
   "metadata": {},
   "outputs": [
    {
     "name": "stdout",
     "output_type": "stream",
     "text": [
      "The constant delta chi squared value is:  3.794239969771762\n"
     ]
    }
   ],
   "source": [
    "stats.chi2(2).ppf(0.85)\n",
    "print(\"The constant delta chi squared value is: \", stats.chi2(2).ppf(0.85))"
   ]
  },
  {
   "attachments": {},
   "cell_type": "markdown",
   "metadata": {},
   "source": [
    "# Q3"
   ]
  },
  {
   "cell_type": "code",
   "execution_count": 22,
   "metadata": {},
   "outputs": [
    {
     "name": "stdout",
     "output_type": "stream",
     "text": [
      "BIC of model A:  9.707263090573182\n",
      "BIC of model B:  14.97514754847016\n",
      "BIC of model A - B:  -5.267884457896978\n"
     ]
    }
   ],
   "source": [
    "reduced_chi2_A = 1.3\n",
    "reduced_chi2_B = 0.7\n",
    "\n",
    "num_free_param_A = 6\n",
    "num_free_param_B = 8\n",
    "\n",
    "num_data_point_fit = 10\n",
    "\n",
    "# Calculate BIC between the two models\n",
    "\n",
    "def BIC_func1(num_free_param, num_data_point_fit, reduced_chi2):\n",
    "    return num_free_param*np.log(num_data_point_fit) + reduced_chi2\n",
    "\n",
    "def BIC_func2(num_free_param, num_data_point_fit, reduced_chi2):\n",
    "    return num_free_param*np.log(num_data_point_fit) - 2 * np.log(reduced_chi2 * num_free_param)\n",
    "\n",
    "# BIC_A = BIC_func1(num_free_param_A, num_data_point_fit, reduced_chi2_A)\n",
    "# BIC_B = BIC_func1(num_free_param_B, num_data_point_fit, reduced_chi2_B)\n",
    "# print(\"BIC of model A: \", BIC_A)\n",
    "# print(\"BIC of model B: \", BIC_B)\n",
    "# print(\"BIC of model A - B: \", BIC_A - BIC_B)\n",
    "\n",
    "\n",
    "BIC_A = BIC_func2(num_free_param_A, num_data_point_fit, reduced_chi2_A)\n",
    "BIC_B = BIC_func2(num_free_param_B, num_data_point_fit, reduced_chi2_B)\n",
    "print(\"BIC of model A: \", BIC_A)\n",
    "print(\"BIC of model B: \", BIC_B)\n",
    "print(\"BIC of model A - B: \", BIC_A - BIC_B)\n"
   ]
  },
  {
   "attachments": {},
   "cell_type": "markdown",
   "metadata": {},
   "source": [
    "# Q4"
   ]
  },
  {
   "cell_type": "code",
   "execution_count": 30,
   "metadata": {},
   "outputs": [
    {
     "name": "stdout",
     "output_type": "stream",
     "text": [
      "Poisson samples:  [ 6  9 10  8  9 13 12  9  7 11  8  9  9 15 13 11 13 10  7 12 12  9 14 12\n",
      " 10 13 12  9 10 11 10 11 10  8  4 15 11  9 11 12  7  7 18 14  7 10  6  8\n",
      "  7  7  9  8 11  6 13 11 13 12 12 13 11  4 10  9  4  9  8 14  8  7  9  9\n",
      " 12 12  7  9  3 15 11 10 13  8  6 14 12  7 13 12  6 10 11  7  2 17  8 11\n",
      " 12 10  8  7 10 15  7 16  8 10 11 12 18 10  7  5 11 10  9  5  9 12 12  6\n",
      " 12 11  3  8  6  8 17  9  5  8 14  6 11  4  7  8 14 15 10 13 15  8 15 13\n",
      " 10 15  7 12  9 13 12 10 10 12  8 20  8 12  8 10 12  9  8  9 12  5 10 20\n",
      " 11 18  8  9 12  7 12 11 10 16 11 11  6  8 10 14 12 14 13  8  4  8  8 15\n",
      " 11 10  9  9 15  9 13 10 11  9 10  9  7  9 12 14 13  9  7  6  6 16 14  7\n",
      " 12  9 14 12 10  6 10 13 13  9 12 10 17 11 14 10 11  8 13 13 13  7  9 11\n",
      "  7  4  6 15 11  6 11  9 14 10 12  8  7 10  9 11 13  5 10  7 11 10  6  8\n",
      " 14 13 16 12 11  8 12 14 12  9  5 10 11  9  8  8  9 12 10  7  8 12 14 18\n",
      "  7 10  5  6  9  8  8 10 13  8 11 10 11  6  9 10  9 10  9  7  8 13  9 12\n",
      "  9  8  5 14  7  8  8 12 12 10  8  7  7  5 10  8 15  9  7  4 11 16  3 12\n",
      " 10  7 10 11 11 10 14 11  7  9  7 14  3  9 10 14 11  9 13  7  9 12 12 11\n",
      " 10 14 11  9 19 16 13 13 12 13 10 12 12 10 12 17  6 10 11 12  9 16  9  9\n",
      " 17  8  4  9  5  9  9  8  5  6 11 11 11 14 10  5 12  7 15 13 16  8 12  8\n",
      " 18  9  6 11 12  5  7 15 16 12  9 13 14 14  6  6  9 12  4  4 19 12 13 13\n",
      "  4 14 16  9 12  5 11  8 12  5 12 14  4 14 15 11 14  4 10 10  9  9  8  3\n",
      " 14 10 17 12  9  6 15 14  9 12  8 12  7 11  5 12 14  6 13 12 13  4  9 10\n",
      "  9 10 12  6 10  9  5 10 11 17  8  9  9 16 16 15 11 18  5 12  7 10  7  9\n",
      "  8  6 17  6  6 12  7 15 11  9  6 14  9  7 12  8  4  7 11  8 11  9 10 12\n",
      "  7 10 10 15  8 12 15  7 12 11  7 11 11 13  8 10  7  8 18 10  9 10  9  7\n",
      "  6 10 13 15 15  7 13  5  7  3 13  9 10 10 13  2 10  8 16  5  9 10 11 11\n",
      "  6 14 10 12  6  6 14 12  5  8 15 10 10 12 11 11  9 12 10 12  8  8  9  9\n",
      "  8  8 11  9 10 15  8  5 16 11 12 13 10  6  7 11  6  6  7 10 13  8 12 12\n",
      "  8 14 10 11 13 10 12 10 17 11  5 14  8 14 10 10 15  7  7 11 10  9 12 11\n",
      "  3 11  7  5  5 11 10 11  9 10  9 11 10  9  5  7 10  6  9  9 13  8 11  9\n",
      " 10 11  5 12 12 14 10  7 13  7  9 12 12 11 11  8 10 13  8 18 14 10 11 15\n",
      " 13 12  5  9 10  4  8 15  9 11 11 14 14 12 16  6 14 11 13 10  6 12  6 11\n",
      " 14  5 12 11  6  9  8  9  9 10 11  9 13 17  5 12 14  6  8 10 14 11  9 10\n",
      " 10 13  5  9  8 12  5  8 13 13 11 11 11  6  4  9 13  8 10 15  7 14  9 12\n",
      "  5 17  8 10  4 10 10 21 12  7 11  5 11  8  8  8 13  8  8  5 11  4  7 20\n",
      "  8  8  7 15  7 14 14  4 17 14 17  7 13 12 15 13 13 17  5 19 11  6  6 11\n",
      " 12 15  9  6 10 14  9 10 10  6  9 12 12 10 14 15  9 14  8 11 16  9 10 10\n",
      "  9 16 14  9  8  6 10 11  9 14 14  8 10  6 13 12  8  9  5  8 11 12 12  5\n",
      "  7  9 12 18  9  9  9 12 11  8 11 11 17 14  6  7  5  5  9  7 12  7 11 13\n",
      "  8 12 10 10  6 12 13  5  6  9 12 15 11 16 12 10 12  9  9 12 11 17  7 14\n",
      " 15 19  7 11 10 12 10 14 10 11  8  8 10 16  9 14 11  9 11 10 12  8  7  5\n",
      " 11  9  6  7  7 11 13 11 18  7 13 10  9 13 11 13  6 14  7  6  9  5 11  9\n",
      "  5 11 11  7 13 14 12 14 10 11  9 11  9 12  7 11 12 10 15 12 16  8  8 14\n",
      " 15 15  9 10  5 15 14  7 13  9 10 14 11 14  7 10]\n",
      "Mean of poisson samples:  10.198\n"
     ]
    },
    {
     "data": {
      "image/png": "[encoded data removed]",
      "text/plain": [
       "<Figure size 640x480 with 1 Axes>"
      ]
     },
     "metadata": {},
     "output_type": "display_data"
    }
   ],
   "source": [
    "# Show the code for generating 1000 Poisson distributed random numbers with mean 10\n",
    "\n",
    "mean = 10\n",
    "num_samples = 1000\n",
    "poisson_samples = np.random.poisson(mean, num_samples)\n",
    "print(\"Poisson samples: \", poisson_samples)\n",
    "print(\"Mean of poisson samples: \", np.mean(poisson_samples))\n",
    "\n",
    "# plot the histogram of the poisson samples and compare it to the poisson distribution\n",
    "plt.figure()\n",
    "plt.hist(poisson_samples, bins=20, density=True, label=\"Poisson samples\")\n",
    "plt.plot(np.arange(0, 20), stats.poisson.pmf(np.arange(0, 20), mean), label=\"Poisson distribution\")\n",
    "plt.xlabel(\"Number of counts\")\n",
    "plt.ylabel(\"Probability\")\n",
    "plt.legend()\n",
    "plt.show()"
   ]
  }
 ],
 "metadata": {
  "kernelspec": {
   "display_name": "Python 3 (ipykernel)",
   "language": "python",
   "name": "python3"
  },
  "language_info": {
   "codemirror_mode": {
    "name": "ipython",
    "version": 3
   },
   "file_extension": ".py",
   "mimetype": "text/x-python",
   "name": "python",
   "nbconvert_exporter": "python",
   "pygments_lexer": "ipython3",
   "version": "3.9.12"
  },
  "vscode": {
   "interpreter": {
    "hash": "916dbcbb3f70747c44a77c7bcd40155683ae19c65e1c03b4aa3499c5328201f1"
   }
  }
 },
 "nbformat": 4,
 "nbformat_minor": 4
}
